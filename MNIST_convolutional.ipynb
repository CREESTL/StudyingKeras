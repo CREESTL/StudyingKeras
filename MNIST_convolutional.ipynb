{
  "nbformat": 4,
  "nbformat_minor": 0,
  "metadata": {
    "colab": {
      "name": "MNIST_convolutional",
      "provenance": [],
      "collapsed_sections": []
    },
    "kernelspec": {
      "name": "python3",
      "display_name": "Python 3"
    },
    "accelerator": "GPU"
  },
  "cells": [
    {
      "cell_type": "markdown",
      "metadata": {
        "id": "SY_D6Tg8i7wL"
      },
      "source": [
        "ГЛАВА 5: СВЕРТОЧНЫЕ НЕЙРОННЫЕ СЕТИ"
      ]
    },
    {
      "cell_type": "markdown",
      "metadata": {
        "id": "dCpmAItvjJM-"
      },
      "source": [
        "ЗАГРУЗКА ВСЕХ НЕОБХОДИМЫХ МОДУЛЕЙ"
      ]
    },
    {
      "cell_type": "code",
      "metadata": {
        "id": "NlarSVSrivaC"
      },
      "source": [
        "from keras.layers import Conv2D, MaxPooling2D, Flatten, Dense\n",
        "from keras.models import Sequential\n",
        "from keras.datasets import mnist\n",
        "from keras.utils import to_categorical"
      ],
      "execution_count": 1,
      "outputs": []
    },
    {
      "cell_type": "markdown",
      "metadata": {
        "id": "PFKmbQ9RjAL8"
      },
      "source": [
        "СОЗДАНИЕ СВЕРТОЧНОЙ СЕТИ ДЛЯ ЗАДАЧ И MNIST"
      ]
    },
    {
      "cell_type": "code",
      "metadata": {
        "id": "XiJP576bjch0",
        "outputId": "a9453c31-ecbb-4365-c4ab-183ea030c337",
        "colab": {
          "base_uri": "https://localhost:8080/",
          "height": 433
        }
      },
      "source": [
        "model = Sequential()\n",
        "# принимает тензоры размером: высота, ширина, количество каналов цвета\n",
        "# количество канало управляется первым аргументом - 32 или 64\n",
        "# (3,3) - размер \"окна\" на изображении, на котором сетка ищет шаблоны (таких\n",
        "# окон - много)\n",
        "# (28, 28, 1) единица отвечает за количество каналов цвета (оттенки серого - 1)\n",
        "model.add(Conv2D(32, (3,3), activation='relu', input_shape=(28,28,1)))\n",
        "model.add(MaxPooling2D((2,2)))\n",
        "model.add(Conv2D(64, (3,3), activation='relu'))\n",
        "model.add(MaxPooling2D((2,2)))\n",
        "model.add(Conv2D(64, (3,3), activation='relu'))\n",
        "# выходной слой имеет форму (3,3,64) \n",
        "# теперь его необходимо преобразовать в одномерный тензор и передать нескольким\n",
        "# слоям Dense для классификации\n",
        "model.add(Flatten())\n",
        "model.add(Dense(64, activation='relu'))\n",
        "# всего 10 классов изображений в MNIST -> 10 нейронов\n",
        "model.add(Dense(10, activation='softmax'))\n",
        "# можно заметить, что первый слой возвращает карту признаков (тензор) размер-\n",
        "# ность (26, 26, 32), а принимает (28, 28, 1)\n",
        "# значит, что он содержит 32е сетки размером 26 на 26 - карту ответов фильтра\n",
        "# на входных данных\n",
        "# каждое измерение на оси глубины - признак (или фильтр)\n",
        "model.summary()\n",
        "#каждый слой принимает карту признаков, отдает - карту ответов\n",
        "\n",
        "# каждый слой MaxPooling уменьшает изображение в 2 раза, чтобы уменьшить\n",
        "# количество параметров на выходе, которые будут скормлены в Dense\n",
        "# MaxPooling берет окно 2 на 2 и выбирает из него самое большое значение градации\n",
        "# серого и заменяет его эим значением"
      ],
      "execution_count": 9,
      "outputs": [
        {
          "output_type": "stream",
          "text": [
            "Model: \"sequential_2\"\n",
            "_________________________________________________________________\n",
            "Layer (type)                 Output Shape              Param #   \n",
            "=================================================================\n",
            "conv2d_6 (Conv2D)            (None, 26, 26, 32)        320       \n",
            "_________________________________________________________________\n",
            "max_pooling2d_4 (MaxPooling2 (None, 13, 13, 32)        0         \n",
            "_________________________________________________________________\n",
            "conv2d_7 (Conv2D)            (None, 11, 11, 64)        18496     \n",
            "_________________________________________________________________\n",
            "max_pooling2d_5 (MaxPooling2 (None, 5, 5, 64)          0         \n",
            "_________________________________________________________________\n",
            "conv2d_8 (Conv2D)            (None, 3, 3, 64)          36928     \n",
            "_________________________________________________________________\n",
            "flatten_2 (Flatten)          (None, 576)               0         \n",
            "_________________________________________________________________\n",
            "dense_4 (Dense)              (None, 64)                36928     \n",
            "_________________________________________________________________\n",
            "dense_5 (Dense)              (None, 10)                650       \n",
            "=================================================================\n",
            "Total params: 93,322\n",
            "Trainable params: 93,322\n",
            "Non-trainable params: 0\n",
            "_________________________________________________________________\n"
          ],
          "name": "stdout"
        }
      ]
    },
    {
      "cell_type": "markdown",
      "metadata": {
        "id": "kV736v_ol2NS"
      },
      "source": [
        "ПРЕДОБРАБОТКА ДАННЫХ"
      ]
    },
    {
      "cell_type": "code",
      "metadata": {
        "id": "DhxateE6l1xA",
        "outputId": "4b1bb9c7-7301-4c1a-d2c2-0309fc7e5a24",
        "colab": {
          "base_uri": "https://localhost:8080/",
          "height": 52
        }
      },
      "source": [
        "(train_images, train_labels), (test_images, test_labels) = mnist.load_data()\n",
        "\n",
        "# меняем форму на ту, которая указана в слое\n",
        "train_images = train_images.reshape((60000, 28, 28, 1))\n",
        "# преобразуем к типа float и нормализуем\n",
        "train_images = train_images.astype('float32') / 255\n",
        "\n",
        "test_images = test_images.reshape((10000, 28, 28, 1))\n",
        "test_images = test_images.astype('float32') / 255\n",
        "\n",
        "# преобразуем метки из int (номер класса) в категориальные\n",
        "train_labels = to_categorical(train_labels)\n",
        "test_labels = to_categorical(test_labels)"
      ],
      "execution_count": 3,
      "outputs": [
        {
          "output_type": "stream",
          "text": [
            "Downloading data from https://storage.googleapis.com/tensorflow/tf-keras-datasets/mnist.npz\n",
            "11493376/11490434 [==============================] - 0s 0us/step\n"
          ],
          "name": "stdout"
        }
      ]
    },
    {
      "cell_type": "markdown",
      "metadata": {
        "id": "yy18Arv2nPWE"
      },
      "source": [
        "КОМПИЛЯЦИЯ МОДЕЛИ"
      ]
    },
    {
      "cell_type": "code",
      "metadata": {
        "id": "KqCm0IBlmrH7"
      },
      "source": [
        "model.compile(optimizer='rmsprop', loss='categorical_crossentropy', metrics=['accuracy'])"
      ],
      "execution_count": 4,
      "outputs": []
    },
    {
      "cell_type": "markdown",
      "metadata": {
        "id": "-3Bw4v3PndM7"
      },
      "source": [
        "ТРЕНИРОВКА МОДЕЛИ"
      ]
    },
    {
      "cell_type": "code",
      "metadata": {
        "id": "cGVeY3fAne9I",
        "outputId": "1c216ce6-fdec-407e-ac38-7d5912c97cfd",
        "colab": {
          "base_uri": "https://localhost:8080/",
          "height": 208
        }
      },
      "source": [
        "model.fit(train_images, train_labels, epochs=5, batch_size=64)"
      ],
      "execution_count": 5,
      "outputs": [
        {
          "output_type": "stream",
          "text": [
            "Epoch 1/5\n",
            "938/938 [==============================] - 4s 4ms/step - loss: 0.1668 - accuracy: 0.9480\n",
            "Epoch 2/5\n",
            "938/938 [==============================] - 4s 4ms/step - loss: 0.0462 - accuracy: 0.9857\n",
            "Epoch 3/5\n",
            "938/938 [==============================] - 4s 4ms/step - loss: 0.0320 - accuracy: 0.9905\n",
            "Epoch 4/5\n",
            "938/938 [==============================] - 4s 4ms/step - loss: 0.0256 - accuracy: 0.9922\n",
            "Epoch 5/5\n",
            "938/938 [==============================] - 4s 4ms/step - loss: 0.0195 - accuracy: 0.9938\n"
          ],
          "name": "stdout"
        },
        {
          "output_type": "execute_result",
          "data": {
            "text/plain": [
              "<tensorflow.python.keras.callbacks.History at 0x7f2b10034828>"
            ]
          },
          "metadata": {
            "tags": []
          },
          "execution_count": 5
        }
      ]
    },
    {
      "cell_type": "markdown",
      "metadata": {
        "id": "Y1PeY54DoISI"
      },
      "source": [
        "ПРОВЕРКА ТОЧНОСТИ МОДЕЛИ"
      ]
    },
    {
      "cell_type": "code",
      "metadata": {
        "id": "JHwa2XhPoKHI",
        "outputId": "4ebc088e-f890-4f96-fe5a-b7643ad63945",
        "colab": {
          "base_uri": "https://localhost:8080/",
          "height": 69
        }
      },
      "source": [
        "test_loss, test_acc = model.evaluate(test_images, test_labels)\n",
        "print(f\"loss is {test_loss}\\naccuracy is {test_acc}\")"
      ],
      "execution_count": 7,
      "outputs": [
        {
          "output_type": "stream",
          "text": [
            "313/313 [==============================] - 1s 2ms/step - loss: 0.0254 - accuracy: 0.9920\n",
            "loss is 0.025362327694892883\n",
            "accuracy is 0.9919999837875366\n"
          ],
          "name": "stdout"
        }
      ]
    }
  ]
}