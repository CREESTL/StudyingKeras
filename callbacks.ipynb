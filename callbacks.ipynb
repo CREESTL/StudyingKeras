{
  "nbformat": 4,
  "nbformat_minor": 0,
  "metadata": {
    "colab": {
      "name": "Callbacks",
      "provenance": [],
      "collapsed_sections": []
    },
    "kernelspec": {
      "name": "python3",
      "display_name": "Python 3"
    }
  },
  "cells": [
    {
      "cell_type": "markdown",
      "metadata": {
        "id": "3NFcwuhbIo4e"
      },
      "source": [
        "В данном ноутбуке рассматриваются способы управлением процессов тренировки модели непосредственно во время тренировки - обратный вызов Keras:\n",
        "\n",
        "ModelCheckpoint\n",
        "\n",
        "EarlyStopping\n",
        "\n",
        "ReduceLRonPlateau"
      ]
    },
    {
      "cell_type": "markdown",
      "metadata": {
        "id": "HPxkGszLJz70"
      },
      "source": [
        "простой вызов fit() позволяет нам \"токнуть бумажный самолетик\", но мы не можем управлять его полетом\n",
        "\n",
        "обратный вызов Keras - объект класса, который помещается в аргументы метода fit и вызывается в разные моменты времени. Он может делать следующее:\n",
        "\n",
        "Фиксация состояния модели в контрольных точках\n",
        "\n",
        "Прерывание обучения, когда точность перестает расти\n",
        "\n",
        "Корректировка параметров (шага оптимизатора)\n",
        "\n",
        "Логирование"
      ]
    },
    {
      "cell_type": "markdown",
      "metadata": {
        "id": "Mg7QxGtzKeR0"
      },
      "source": [
        "# EarlyStopping"
      ]
    },
    {
      "cell_type": "code",
      "metadata": {
        "id": "MXOHNSWbKgcO"
      },
      "source": [
        "import keras.callbacks\n",
        "\n",
        "# ОБЯЗАТЕЛЬНО ДЕЛАТЬ МАССИВ (ДАЖЕ ИЗ 1 ЭЛЕМЕНТА)!\n",
        "\n",
        "stop = [callbacks.EarlyStopping(\n",
        "    # наблюдение за точностью валидации\n",
        "    monitor='val_accuracy',\n",
        "    # прекращение тренировки, если точность не растет ДОЛЬШЕ чем одна эпоха\n",
        "    patience=1,\n",
        ")]\n",
        "\n",
        "model.compile(optimizer='rmsprop', loss='binary_crossentropy', metrics=['val_accuracy'])\n",
        "\n",
        "model.fit(\n",
        "    epochs=10,\n",
        "    batch_size=32,\n",
        "    # так как обратный вызов следит за проверочными данными, их необходимо передать\n",
        "    validation_data=val_generator,\n",
        "    # обратный вызов\n",
        "    callbacks=stop\n",
        ")"
      ],
      "execution_count": null,
      "outputs": []
    },
    {
      "cell_type": "markdown",
      "metadata": {
        "id": "srE1xlv-KXSU"
      },
      "source": [
        "# ModelCheckpoint"
      ]
    },
    {
      "cell_type": "code",
      "metadata": {
        "id": "2Z_XQrjGJ7tV"
      },
      "source": [
        "import keras.callbacks\n",
        "\n",
        "checkpoints = [callbacks.ModelCheckpoint(\n",
        "    # путь для сохранения\n",
        "    filepath='saved_model.h5',\n",
        "    # наблюдение за потерями на валидации\n",
        "    monitor='val_loss',\n",
        "    # сохранение только лучшей модели\n",
        "    save_best_only=True \n",
        ")]\n",
        "\n",
        "model.compile(optimizer='rmsprop', loss='binary_crossentropy', metrics=['val_accuracy'])\n",
        "\n",
        "model.fit(\n",
        "    epochs=10,\n",
        "    batch_size=32,\n",
        "    validation_data=val_generator,\n",
        "    # обратный вызов\n",
        "    callbacks=checkpoints\n",
        ")"
      ],
      "execution_count": null,
      "outputs": []
    },
    {
      "cell_type": "markdown",
      "metadata": {
        "id": "_7Wowz0tM2cw"
      },
      "source": [
        "# ReduceLROnPlateau"
      ]
    },
    {
      "cell_type": "code",
      "metadata": {
        "id": "lkGxgFNaM9Fg"
      },
      "source": [
        "from keras import callbacks\n",
        "\n",
        "reduceLR = [(\n",
        "    callbacks.ReduceLROnPlateau(\n",
        "        monitor='val_loss',\n",
        "        # уменьшение скорости обучения в 10 раз\n",
        "        factor=0.1,\n",
        "        # уменьшение скорости, если потери не уменьшаются в течении 10 эпох\n",
        "        patience=10\n",
        "    )\n",
        ")]\n",
        "\n",
        "model.fit(\n",
        "    epochs=10,\n",
        "    batch_size=32,\n",
        "    validation_data=val_generator,\n",
        "    # обратный вызов\n",
        "    callbacks=reduceLR\n",
        ")"
      ],
      "execution_count": null,
      "outputs": []
    },
    {
      "cell_type": "markdown",
      "metadata": {
        "id": "pWKkqNzcOHEv"
      },
      "source": [
        "# Создание своего обратного вызова"
      ]
    },
    {
      "cell_type": "code",
      "metadata": {
        "id": "kVQ6DxhjQI76"
      },
      "source": [
        "# любой обратный вызов по умолчанию имеет доступ к двум атрибутам:\n",
        "# self.model\n",
        "# self.validation_data\n",
        "# их даже не надо указывать\n",
        "\n",
        "# создадим обратный вызов, который сохраняет все активации слоев в виде numpy \n",
        "# после каждой эпохи\n",
        "\n",
        "import keras\n",
        "import numpy as np\n",
        "\n",
        "# ОБЯЗАТЕЛЬНО такое наследование!\n",
        "class ActivationLogger(keras.callbacks.Callback):\n",
        "  # создание модели, которая будет возвращать активации слоев другой модели\n",
        "  def create_model(self, model):\n",
        "    self.model = model\n",
        "    layers_outputs = [layer.output for layer in model.layers]\n",
        "    self.activations_model = keras.models.Model(model.input, layers_outputs)\n",
        "\n",
        "  def on_epoch_end(self, epoch, logs=None):\n",
        "    # self.validation_data - аргумент из keras.callbacks.Callback\n",
        "    if self.validation_data is None:\n",
        "      raise RuntimeError(\"Please provide validation data!\")\n",
        "    # получение первого образца из проверочных данных\n",
        "    validation_sample = self.validation_data[0][0:1]\n",
        "    activations = self.activations_model.predict(validation_sample)\n",
        "    # сохранение массива на диск\n",
        "    with open(f\"activations_on_epoch {epoch}.npz\", 'wb') as f:\n",
        "      np.savez(f, activations)\n"
      ],
      "execution_count": null,
      "outputs": []
    }
  ]
}