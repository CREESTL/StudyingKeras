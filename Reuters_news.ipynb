{
  "nbformat": 4,
  "nbformat_minor": 0,
  "metadata": {
    "colab": {
      "name": "Reuters_news.ipynb",
      "provenance": []
    },
    "kernelspec": {
      "name": "python3",
      "display_name": "Python 3"
    },
    "accelerator": "TPU"
  },
  "cells": [
    {
      "cell_type": "markdown",
      "metadata": {
        "id": "87xMs_F87P9d"
      },
      "source": [
        "Мы будем работать с набором данных Reuters — выборкой новостных лент и их тем, публиковавшихся агентством Reuters в 1986 году. Это простой набор данных, широко используемых для классификации текста. Существует 46 разных тем; некоторые темы более широко представлены, некоторые — менее, но для каждой из них в обучающем наборе имеется не менее 10 примеров."
      ]
    },
    {
      "cell_type": "markdown",
      "metadata": {
        "id": "Mjjq-nVa907L"
      },
      "source": [
        "ПОДКЛЮЧЕНИЕ ВСЕХ МОДУЛЕЙ"
      ]
    },
    {
      "cell_type": "code",
      "metadata": {
        "id": "zxKeDbAj93Gk"
      },
      "source": [
        "from keras.datasets import reuters\n",
        "from keras.utils.np_utils import to_categorical\n",
        "from keras.models import Sequential\n",
        "from keras.layers import Dense\n",
        "import matplotlib.pyplot as plt\n",
        "import numpy as np"
      ],
      "execution_count": 47,
      "outputs": []
    },
    {
      "cell_type": "markdown",
      "metadata": {
        "id": "7ipYo7gQ7SfB"
      },
      "source": [
        "ЗАГРУЗКА ДАННЫХ"
      ]
    },
    {
      "cell_type": "code",
      "metadata": {
        "id": "24JAeeKj7M0_",
        "outputId": "99e83411-b1ab-4797-e40a-df0419beb93f",
        "colab": {
          "base_uri": "https://localhost:8080/",
          "height": 69
        }
      },
      "source": [
        "\n",
        "\n",
        "(train_data, train_labels), (test_data, test_labels) = reuters.load_data(num_words=10_000)\n",
        "\n",
        "print(f'number of training examples {len(train_data)}')\n",
        "print(f'number of testing examples {len(test_data)}')\n",
        "\n",
        "# каждый пример - список индексов слов\n",
        "print(train_data[10])"
      ],
      "execution_count": 48,
      "outputs": [
        {
          "output_type": "stream",
          "text": [
            "number of training examples 8982\n",
            "number of testing examples 2246\n",
            "[1, 245, 273, 207, 156, 53, 74, 160, 26, 14, 46, 296, 26, 39, 74, 2979, 3554, 14, 46, 4689, 4329, 86, 61, 3499, 4795, 14, 61, 451, 4329, 17, 12]\n"
          ],
          "name": "stdout"
        }
      ]
    },
    {
      "cell_type": "markdown",
      "metadata": {
        "id": "ZUqFZKLp8WAw"
      },
      "source": [
        "ДЕКОДИРОВАНИЕ НОВОСТЕЙ ОБРАТНО В ТЕКСТ"
      ]
    },
    {
      "cell_type": "code",
      "metadata": {
        "id": "CSywWGPQ8aT4",
        "outputId": "0330bf3f-6848-4dc5-bcb2-8b223a237ba1",
        "colab": {
          "base_uri": "https://localhost:8080/",
          "height": 55
        }
      },
      "source": [
        "def decode_words():\n",
        "  word_index = reuters.get_word_index()\n",
        "  reverse_word_index = dict([(value, key) for (key, value) in word_index.items()])\n",
        "  decoded_words = ' '.join([reverse_word_index.get(i - 3, \"?\") for i in train_data[0]])\n",
        "  return decoded_words\n",
        "\n",
        "decoded_words = decode_words()\n",
        "print(decoded_words)"
      ],
      "execution_count": 49,
      "outputs": [
        {
          "output_type": "stream",
          "text": [
            "? ? ? said as a result of its december acquisition of space co it expects earnings per share in 1987 of 1 15 to 1 30 dlrs per share up from 70 cts in 1986 the company said pretax net should rise to nine to 10 mln dlrs from six mln dlrs in 1986 and rental operation revenues to 19 to 22 mln dlrs from 12 5 mln dlrs it said cash flow per share this year should be 2 50 to three dlrs reuter 3\n"
          ],
          "name": "stdout"
        }
      ]
    },
    {
      "cell_type": "markdown",
      "metadata": {
        "id": "1-B6s-WS95xq"
      },
      "source": [
        "ВЕКТОРИЗАЦИЯ ДАННЫХ"
      ]
    },
    {
      "cell_type": "code",
      "metadata": {
        "id": "GHbhMMX398V0"
      },
      "source": [
        "def vectorize(sequences, dimension=10_000):\n",
        "  results = np.zeros((len(sequences), dimension))\n",
        "  for i, sequence in enumerate(sequences):\n",
        "    # в матрице значение из последовательности (sequence) становится единицей, а все остальное - нули\n",
        "    results[i, sequence] = 1\n",
        "  return results\n",
        "\n",
        "x_train = vectorize(train_data)\n",
        "x_test = vectorize(test_data)\n"
      ],
      "execution_count": 50,
      "outputs": []
    },
    {
      "cell_type": "markdown",
      "metadata": {
        "id": "YNNIgNuv-4wR"
      },
      "source": [
        "ONE HOT КОДИРОВАНИЕ МЕТОК"
      ]
    },
    {
      "cell_type": "code",
      "metadata": {
        "id": "64hiGt6c-72Y"
      },
      "source": [
        "def to_one_hot(labels, dimension=46):\n",
        "  results = np.zeros((len(labels), dimension))\n",
        "  for i, label in enumerate(labels):\n",
        "    results[i, label] = 1\n",
        "  return results\n",
        "\n",
        "y_train = to_one_hot(train_labels)\n",
        "y_test = to_one_hot(test_labels)\n",
        "\n",
        "'''\n",
        "ТО ЖЕ САМОЕ МОЖНО СДЕЛАТЬ ТАК\n",
        "'''\n",
        "one_hot_train_labels = to_categorical(train_labels)\n",
        "one_hot_test_labels = to_categorical(test_labels)\n"
      ],
      "execution_count": 60,
      "outputs": []
    },
    {
      "cell_type": "markdown",
      "metadata": {
        "id": "lmimopCOARnQ"
      },
      "source": [
        "СОЗДАНИЕ МОДЕЛИ СЕТИ"
      ]
    },
    {
      "cell_type": "code",
      "metadata": {
        "id": "CwFnnHiAATdB"
      },
      "source": [
        "model = Sequential()\n",
        "model.add(Dense(64, activation='relu', input_shape=(10000,)))\n",
        "model.add(Dense(64, activation='relu'))\n",
        "# в выходном слое будет 46 нейронов\n",
        "# это значит, что будет возвращаться 46-мерный вектор, где каждый элемент - отдельный выходной класс\n",
        "# softmax будет возвращать вектор из 46 элементов (от 0 до 1), где каждый элемент будет показывать вероятность\n",
        "# принадлежности входного образца к каждому из 46 классов\n",
        "model.add(Dense(46, activation='softmax'))\n"
      ],
      "execution_count": 57,
      "outputs": []
    },
    {
      "cell_type": "markdown",
      "metadata": {
        "id": "H_yh82LDBaBX"
      },
      "source": [
        "КОМПИЛЯЦИЯ МОДЕЛИ"
      ]
    },
    {
      "cell_type": "code",
      "metadata": {
        "id": "5F0iYvoPBZLy"
      },
      "source": [
        "model.compile(optimizer='rmsprop', loss='categorical_crossentropy', metrics=['accuracy'])"
      ],
      "execution_count": 58,
      "outputs": []
    },
    {
      "cell_type": "markdown",
      "metadata": {
        "id": "oXaO6Ep1B6zm"
      },
      "source": [
        "СОЗДАДИМ ВЫБОРКУ ИЗ 1000 ПРОВЕРОЧНЫХ ОБРАЗЦОВ"
      ]
    },
    {
      "cell_type": "code",
      "metadata": {
        "id": "D24nbIIhB_L8"
      },
      "source": [
        "x_check = x_train[:1000]\n",
        "partial_x_train = x_train[1000:]\n",
        "\n",
        "y_check = one_hot_train_labels[:1000]\n",
        "partial_y_train = one_hot_train_labels[1000:]\n"
      ],
      "execution_count": 61,
      "outputs": []
    },
    {
      "cell_type": "markdown",
      "metadata": {
        "id": "8hcy-7ysCPj6"
      },
      "source": [
        "ТРЕНИРОВКА И ПРОВЕРКА ТОЧНОСТИ ВО ВРЕМЯ ТРЕНИРОВКИ"
      ]
    },
    {
      "cell_type": "code",
      "metadata": {
        "id": "T-UTEd14CSPC",
        "outputId": "00954e4e-187b-4a7e-ea77-b6f8f15a1659",
        "colab": {
          "base_uri": "https://localhost:8080/",
          "height": 711
        }
      },
      "source": [
        "history = model.fit(partial_x_train, partial_y_train, epochs=20, batch_size=512, validation_data=(x_check, y_check))\n",
        "history = history.history "
      ],
      "execution_count": 63,
      "outputs": [
        {
          "output_type": "stream",
          "text": [
            "Epoch 1/20\n",
            "13/13 [==============================] - 1s 53ms/step - loss: 0.0814 - accuracy: 0.9615 - val_loss: 0.1158 - val_accuracy: 0.9499\n",
            "Epoch 2/20\n",
            "13/13 [==============================] - 1s 45ms/step - loss: 0.0767 - accuracy: 0.9640 - val_loss: 0.1508 - val_accuracy: 0.9530\n",
            "Epoch 3/20\n",
            "13/13 [==============================] - 1s 45ms/step - loss: 0.0707 - accuracy: 0.9665 - val_loss: 0.1599 - val_accuracy: 0.9461\n",
            "Epoch 4/20\n",
            "13/13 [==============================] - 1s 45ms/step - loss: 0.0732 - accuracy: 0.9671 - val_loss: 0.1768 - val_accuracy: 0.9443\n",
            "Epoch 5/20\n",
            "13/13 [==============================] - 1s 45ms/step - loss: 0.0729 - accuracy: 0.9670 - val_loss: 0.1956 - val_accuracy: 0.9436\n",
            "Epoch 6/20\n",
            "13/13 [==============================] - 1s 45ms/step - loss: 0.0727 - accuracy: 0.9649 - val_loss: 0.2141 - val_accuracy: 0.9430\n",
            "Epoch 7/20\n",
            "13/13 [==============================] - 1s 45ms/step - loss: 0.0697 - accuracy: 0.9662 - val_loss: 0.2207 - val_accuracy: 0.9424\n",
            "Epoch 8/20\n",
            "13/13 [==============================] - 1s 46ms/step - loss: 0.0684 - accuracy: 0.9663 - val_loss: 0.2403 - val_accuracy: 0.9405\n",
            "Epoch 9/20\n",
            "13/13 [==============================] - 1s 45ms/step - loss: 0.0697 - accuracy: 0.9648 - val_loss: 0.2501 - val_accuracy: 0.9449\n",
            "Epoch 10/20\n",
            "13/13 [==============================] - 1s 47ms/step - loss: 0.0691 - accuracy: 0.9660 - val_loss: 0.2702 - val_accuracy: 0.9436\n",
            "Epoch 11/20\n",
            "13/13 [==============================] - 1s 46ms/step - loss: 0.0646 - accuracy: 0.9679 - val_loss: 0.2816 - val_accuracy: 0.9424\n",
            "Epoch 12/20\n",
            "13/13 [==============================] - 1s 48ms/step - loss: 0.0695 - accuracy: 0.9660 - val_loss: 0.2843 - val_accuracy: 0.9430\n",
            "Epoch 13/20\n",
            "13/13 [==============================] - 1s 46ms/step - loss: 0.0666 - accuracy: 0.9655 - val_loss: 0.3002 - val_accuracy: 0.9399\n",
            "Epoch 14/20\n",
            "13/13 [==============================] - 1s 47ms/step - loss: 0.0649 - accuracy: 0.9657 - val_loss: 0.3227 - val_accuracy: 0.9405\n",
            "Epoch 15/20\n",
            "13/13 [==============================] - 1s 46ms/step - loss: 0.0679 - accuracy: 0.9665 - val_loss: 0.3199 - val_accuracy: 0.9405\n",
            "Epoch 16/20\n",
            "13/13 [==============================] - 1s 48ms/step - loss: 0.0653 - accuracy: 0.9668 - val_loss: 0.3347 - val_accuracy: 0.9374\n",
            "Epoch 17/20\n",
            "13/13 [==============================] - 1s 48ms/step - loss: 0.0625 - accuracy: 0.9673 - val_loss: 0.3390 - val_accuracy: 0.9355\n",
            "Epoch 18/20\n",
            "13/13 [==============================] - 1s 45ms/step - loss: 0.0629 - accuracy: 0.9682 - val_loss: 0.3563 - val_accuracy: 0.9368\n",
            "Epoch 19/20\n",
            "13/13 [==============================] - 1s 46ms/step - loss: 0.0637 - accuracy: 0.9671 - val_loss: 0.3595 - val_accuracy: 0.9368\n",
            "Epoch 20/20\n",
            "13/13 [==============================] - 1s 45ms/step - loss: 0.0630 - accuracy: 0.9684 - val_loss: 0.3720 - val_accuracy: 0.9343\n"
          ],
          "name": "stdout"
        }
      ]
    },
    {
      "cell_type": "markdown",
      "metadata": {
        "id": "KtxG82wsCvgn"
      },
      "source": [
        "СОЗДАНИЕ ГРАФИКОВ ПО ДАННЫМ ТРЕНИРОВКИ"
      ]
    },
    {
      "cell_type": "code",
      "metadata": {
        "id": "R5VeZbsgCzOO",
        "outputId": "e2c81681-0000-4d7c-9b0e-575c1761dcfd",
        "colab": {
          "base_uri": "https://localhost:8080/",
          "height": 573
        }
      },
      "source": [
        "# функция строит графики после тренировки\n",
        "def draw_graph(history):\n",
        "    loss_values = history[\"loss\"]\n",
        "    validation_loss_values = history[\"val_loss\"]\n",
        "\n",
        "    epochs = range(1, len(history['accuracy']) + 1)\n",
        "\n",
        "    #               ГРАФИКИ ПОТЕРЬ\n",
        "    # синими точками рисуется график потерь на этапе обучения\n",
        "    plt.plot(epochs, loss_values, 'bo', label='Training loss')\n",
        "    # синей линией рисуется график потерь на этапе проверки\n",
        "    plt.plot(epochs, validation_loss_values, 'b', label='Validation loss')\n",
        "    plt.title('Training and validation loss')\n",
        "    plt.xlabel('Epochs')\n",
        "    plt.ylabel('Loss')\n",
        "    plt.legend()\n",
        "    plt.show()\n",
        "\n",
        "    # очищаем рисунок\n",
        "    plt.clf()\n",
        "\n",
        "    #               ГРАФИКИ ТОЧНОСТИ\n",
        "    acc_values = history['accuracy']\n",
        "    validation_acc_values = history['val_accuracy']\n",
        "    plt.plot(epochs, acc_values, 'bo', label='Training acc')\n",
        "    plt.plot(epochs, validation_acc_values, 'b', label='Validation acc')\n",
        "    plt.title('Training and validation accuracy')\n",
        "    plt.xlabel('Epochs')\n",
        "    plt.ylabel('Accuracy')\n",
        "    plt.legend()\n",
        "    plt.show()\n",
        "\n",
        "\n",
        "\n",
        "# рисуем все графики\n",
        "draw_graph(history)"
      ],
      "execution_count": 64,
      "outputs": [
        {
          "output_type": "display_data",
          "data": {
            "image/png": "[encoded data removed]",
            "text/plain": [
              "<Figure size 432x288 with 1 Axes>"
            ]
          },
          "metadata": {
            "tags": [],
            "needs_background": "light"
          }
        },
        {
          "output_type": "display_data",
          "data": {
            "image/png": "[encoded data removed]",
            "text/plain": [
              "<Figure size 432x288 with 1 Axes>"
            ]
          },
          "metadata": {
            "tags": [],
            "needs_background": "light"
          }
        }
      ]
    },
    {
      "cell_type": "markdown",
      "metadata": {
        "id": "J8YejUoVF8Sa"
      },
      "source": [
        "ПЕРЕОБУЧЕНИЕ ПРОСИХОДИТ НА 9-ОЙ ЭПОХЕ\n",
        "УМЕНЬШИМ КОЛИЧЕСТВО ЭПОХ ДО 9"
      ]
    },
    {
      "cell_type": "code",
      "metadata": {
        "id": "vWRE-WhOGI3c",
        "outputId": "05da06ee-c5f8-45e5-953e-fd2d60f1d7ec",
        "colab": {
          "base_uri": "https://localhost:8080/",
          "height": 329
        }
      },
      "source": [
        "history = model.fit(partial_x_train, partial_y_train, epochs=9, batch_size=512, validation_data=(x_check, y_check))\n",
        "history = history.history"
      ],
      "execution_count": 44,
      "outputs": [
        {
          "output_type": "stream",
          "text": [
            "Epoch 1/9\n",
            "16/16 [==============================] - 1s 49ms/step - loss: 0.0679 - accuracy: 0.9594 - val_loss: 1.8041 - val_accuracy: 0.7640\n",
            "Epoch 2/9\n",
            "16/16 [==============================] - 1s 46ms/step - loss: 0.0643 - accuracy: 0.9605 - val_loss: 1.7526 - val_accuracy: 0.7680\n",
            "Epoch 3/9\n",
            "16/16 [==============================] - 1s 44ms/step - loss: 0.0673 - accuracy: 0.9603 - val_loss: 1.7473 - val_accuracy: 0.7730\n",
            "Epoch 4/9\n",
            "16/16 [==============================] - 1s 45ms/step - loss: 0.0658 - accuracy: 0.9599 - val_loss: 1.7999 - val_accuracy: 0.7670\n",
            "Epoch 5/9\n",
            "16/16 [==============================] - 1s 47ms/step - loss: 0.0659 - accuracy: 0.9599 - val_loss: 1.8214 - val_accuracy: 0.7600\n",
            "Epoch 6/9\n",
            "16/16 [==============================] - 1s 47ms/step - loss: 0.0673 - accuracy: 0.9582 - val_loss: 1.7909 - val_accuracy: 0.7560\n",
            "Epoch 7/9\n",
            "16/16 [==============================] - 1s 46ms/step - loss: 0.0659 - accuracy: 0.9570 - val_loss: 1.8399 - val_accuracy: 0.7630\n",
            "Epoch 8/9\n",
            "16/16 [==============================] - 1s 48ms/step - loss: 0.0670 - accuracy: 0.9580 - val_loss: 1.8606 - val_accuracy: 0.7650\n",
            "Epoch 9/9\n",
            "16/16 [==============================] - 1s 46ms/step - loss: 0.0644 - accuracy: 0.9584 - val_loss: 1.9997 - val_accuracy: 0.7570\n"
          ],
          "name": "stdout"
        }
      ]
    },
    {
      "cell_type": "code",
      "metadata": {
        "id": "ckULM5MlGLFh",
        "outputId": "f388bec2-d0b9-49ce-923c-26b99e305bd3",
        "colab": {
          "base_uri": "https://localhost:8080/",
          "height": 573
        }
      },
      "source": [
        "draw_graph(history)"
      ],
      "execution_count": 45,
      "outputs": [
        {
          "output_type": "display_data",
          "data": {
            "image/png": "[encoded data removed]",
            "text/plain": [
              "<Figure size 432x288 with 1 Axes>"
            ]
          },
          "metadata": {
            "tags": [],
            "needs_background": "light"
          }
        },
        {
          "output_type": "display_data",
          "data": {
            "image/png": "[encoded data removed]",
            "text/plain": [
              "<Figure size 432x288 with 1 Axes>"
            ]
          },
          "metadata": {
            "tags": [],
            "needs_background": "light"
          }
        }
      ]
    },
    {
      "cell_type": "markdown",
      "metadata": {
        "id": "50dBhebZGck4"
      },
      "source": [
        "ОЦЕНКА ТОЧНОСТИ НА ТЕСТОВЫХ ДАННЫХ"
      ]
    },
    {
      "cell_type": "code",
      "metadata": {
        "id": "RzS5gkVLGf_F",
        "outputId": "d7df4595-5691-4d89-bac6-d723fea4d428",
        "colab": {
          "base_uri": "https://localhost:8080/",
          "height": 52
        }
      },
      "source": [
        "model.evaluate(x_test, y_test)"
      ],
      "execution_count": 46,
      "outputs": [
        {
          "output_type": "stream",
          "text": [
            "71/71 [==============================] - 0s 3ms/step - loss: 2.4071 - accuracy: 0.7431\n"
          ],
          "name": "stdout"
        },
        {
          "output_type": "execute_result",
          "data": {
            "text/plain": [
              "[2.4070754051208496, 0.7430988550186157]"
            ]
          },
          "metadata": {
            "tags": []
          },
          "execution_count": 46
        }
      ]
    },
    {
      "cell_type": "markdown",
      "metadata": {
        "id": "5BAyWWBuIRgX"
      },
      "source": [
        "ПРЕДСКАЗАНИЕ НА НОВЫХ ДАННЫХ"
      ]
    },
    {
      "cell_type": "code",
      "metadata": {
        "id": "8YX6yOjfIT-6",
        "outputId": "f9adf0f4-5dd7-4a2c-895b-f0c687f660da",
        "colab": {
          "base_uri": "https://localhost:8080/",
          "height": 52
        }
      },
      "source": [
        "predictions = model.predict(x_test)\n",
        "\n",
        "# убедимся, что выводятся показания для всех 46 классов\n",
        "print(predictions[0].shape)\n",
        "\n",
        "# наиболее вероятный элемент\n",
        "np.argmax(predictions[0])"
      ],
      "execution_count": 65,
      "outputs": [
        {
          "output_type": "stream",
          "text": [
            "(46,)\n"
          ],
          "name": "stdout"
        },
        {
          "output_type": "execute_result",
          "data": {
            "text/plain": [
              "3"
            ]
          },
          "metadata": {
            "tags": []
          },
          "execution_count": 65
        }
      ]
    }
  ]
}