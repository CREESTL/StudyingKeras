{
  "nbformat": 4,
  "nbformat_minor": 0,
  "metadata": {
    "colab": {
      "name": "IMDB_films_v2",
      "provenance": []
    },
    "kernelspec": {
      "name": "python3",
      "display_name": "Python 3"
    },
    "accelerator": "TPU"
  },
  "cells": [
    {
      "cell_type": "markdown",
      "metadata": {
        "id": "O2fJlfoj7Dlp"
      },
      "source": [
        "ЛУЧШИЙ способ избежать переобучения - увеличить набор тренировочных данных\n",
        "\n",
        "САМЫЙ ПРОСТОЙ способ - уменьшить размерность сети. Это уменьшит количество изучаемых признаков. Уменьшиться и размер памяти, в который модель может сохранять \"шаблоны\", что орицательно влияет на общность.\n",
        "\n",
        "Но если уменьшить слишком сильно, то модель будет недообучена. Важно найти компромисс между слишком большой и недостающе емкостью модели."
      ]
    },
    {
      "cell_type": "markdown",
      "metadata": {
        "id": "VGWoOppo7sNm"
      },
      "source": [
        "УСТАНОВКА ВСЕХ МОДУЛЕЙ\n"
      ]
    },
    {
      "cell_type": "code",
      "metadata": {
        "id": "uy-pbloR6xev"
      },
      "source": [
        "from keras.datasets import imdb\n",
        "from keras.layers import Dense, Dropout\n",
        "from keras.models import Sequential\n",
        "import matplotlib.pyplot as plt\n",
        "from keras import regularizers\n",
        "import numpy as np"
      ],
      "execution_count": 27,
      "outputs": []
    },
    {
      "cell_type": "markdown",
      "metadata": {
        "id": "h3iO1F2w9V4w"
      },
      "source": [
        "ЧТЕНИЕ ДАННЫХ"
      ]
    },
    {
      "cell_type": "code",
      "metadata": {
        "id": "jQfTKzNq9Xvp",
        "outputId": "adc39682-4d4d-4c8d-e33f-3d15272e35da",
        "colab": {
          "base_uri": "https://localhost:8080/",
          "height": 52
        }
      },
      "source": [
        "(train_data, train_labels), (test_data, test_labels) = imdb.load_data(num_words=10000)"
      ],
      "execution_count": 2,
      "outputs": [
        {
          "output_type": "stream",
          "text": [
            "Downloading data from https://storage.googleapis.com/tensorflow/tf-keras-datasets/imdb.npz\n",
            "17465344/17464789 [==============================] - 0s 0us/step\n"
          ],
          "name": "stdout"
        }
      ]
    },
    {
      "cell_type": "markdown",
      "metadata": {
        "id": "yWxh_BqF9fBs"
      },
      "source": [
        "ВЕКТОРИЗАЦИЯ ДАННЫХ"
      ]
    },
    {
      "cell_type": "code",
      "metadata": {
        "id": "3tZK2r2y9g26"
      },
      "source": [
        "# данные необходимо преобразовать в бинарную матрицу\n",
        "# то есть например если есть массив [3,5], то он превратиться в вектор формы (n, 10 000), где\n",
        "# все числа, кроме тех, которые на 3 и 5 позициях, будут нулями, а те - единицами.\n",
        "def vectorize_sequences(sequences,dimension=10_000):\n",
        "    results = np.zeros((len(sequences), dimension))\n",
        "    for i, sequence in enumerate(sequences):\n",
        "        results[i, sequence] = 1.\n",
        "    return results\n",
        "\n",
        "x_train = vectorize_sequences(train_data)\n",
        "x_test = vectorize_sequences(test_data)\n",
        "\n",
        "# векторизуем метки\n",
        "y_train = np.asarray(train_labels).astype('float32')\n",
        "y_test = np.asarray(test_labels).astype('float32')"
      ],
      "execution_count": 3,
      "outputs": []
    },
    {
      "cell_type": "code",
      "metadata": {
        "id": "qb5GX3ul9ksZ",
        "outputId": "15b1064d-ca56-4eef-b535-5b207680f5d1",
        "colab": {
          "base_uri": "https://localhost:8080/",
          "height": 468
        }
      },
      "source": [
        "print(\"\\n\\n[INFO] PREPROCESSED DATA IS:\")\n",
        "print(f\"train_data: \\n{x_test}\")\n",
        "print(f\"\\ntest_data: \\n{x_test}\")\n",
        "print(f\"\\ntrain_labels: \\n{y_train}\")\n",
        "print(f\"\\ntest_labels: \\n{y_test}\")"
      ],
      "execution_count": 4,
      "outputs": [
        {
          "output_type": "stream",
          "text": [
            "\n",
            "\n",
            "[INFO] PREPROCESSED DATA IS:\n",
            "train_data: \n",
            "[[0. 1. 1. ... 0. 0. 0.]\n",
            " [0. 1. 1. ... 0. 0. 0.]\n",
            " [0. 1. 1. ... 0. 0. 0.]\n",
            " ...\n",
            " [0. 1. 1. ... 0. 0. 0.]\n",
            " [0. 1. 1. ... 0. 0. 0.]\n",
            " [0. 1. 1. ... 0. 0. 0.]]\n",
            "\n",
            "test_data: \n",
            "[[0. 1. 1. ... 0. 0. 0.]\n",
            " [0. 1. 1. ... 0. 0. 0.]\n",
            " [0. 1. 1. ... 0. 0. 0.]\n",
            " ...\n",
            " [0. 1. 1. ... 0. 0. 0.]\n",
            " [0. 1. 1. ... 0. 0. 0.]\n",
            " [0. 1. 1. ... 0. 0. 0.]]\n",
            "\n",
            "train_labels: \n",
            "[1. 0. 0. ... 0. 1. 0.]\n",
            "\n",
            "test_labels: \n",
            "[0. 1. 1. ... 0. 0. 0.]\n"
          ],
          "name": "stdout"
        }
      ]
    },
    {
      "cell_type": "markdown",
      "metadata": {
        "id": "ha1bML-u73pr"
      },
      "source": [
        "СОЗДАНИЕ МОДЕЛИ №1"
      ]
    },
    {
      "cell_type": "code",
      "metadata": {
        "id": "Rv5wZroE75vN"
      },
      "source": [
        "model = Sequential()\n",
        "model.add(Dense(16, activation='relu', input_shape=(10000,)))\n",
        "model.add(Dense(16, activation='relu'))\n",
        "model.add(Dense(1, activation='sigmoid'))# выводит вероятность"
      ],
      "execution_count": 5,
      "outputs": []
    },
    {
      "cell_type": "markdown",
      "metadata": {
        "id": "pqykWsPd8oB-"
      },
      "source": [
        "СОЗДАНИЕ МОДЕЛИ №2 (С МЕНЬШЕЙ ЕМКОСТЬЮ)"
      ]
    },
    {
      "cell_type": "code",
      "metadata": {
        "id": "DI-iUcTr8s7O"
      },
      "source": [
        "model = Sequential()\n",
        "model.add(Dense(4, activation='relu', input_shape=(10000,)))\n",
        "model.add(Dense(4, activation='relu'))\n",
        "model.add(Dense(1, activation='sigmoid'))"
      ],
      "execution_count": null,
      "outputs": []
    },
    {
      "cell_type": "markdown",
      "metadata": {
        "id": "u9BHFzpl8vpj"
      },
      "source": [
        "СОЗДАНИЕ МОДЕЛИ №3 (С ОЧЕНЬ БОЛЬШОЙ ЕМКОСТЬЮ)"
      ]
    },
    {
      "cell_type": "code",
      "metadata": {
        "id": "loP_cWqS8zSc"
      },
      "source": [
        "model = Sequential()\n",
        "model.add(Dense(512, activation='relu', input_shape=(10000,)))\n",
        "model.add(Dense(512, activation='relu'))\n",
        "model.add(Dense(1, activation='sigmoid'))"
      ],
      "execution_count": null,
      "outputs": []
    },
    {
      "cell_type": "markdown",
      "metadata": {
        "id": "E36FCTlV9p8Q"
      },
      "source": [
        "КОМПИЛЯЦИЯ МОДЕЛИ"
      ]
    },
    {
      "cell_type": "code",
      "metadata": {
        "id": "TbfbngxM9pXp"
      },
      "source": [
        "model.compile(optimizer='rmsprop', loss='binary_crossentropy', metrics=['accuracy'])"
      ],
      "execution_count": 6,
      "outputs": []
    },
    {
      "cell_type": "markdown",
      "metadata": {
        "id": "BJ2LB8_r-Fs-"
      },
      "source": [
        "ТРЕНИРОВКА МОДЕЛИ"
      ]
    },
    {
      "cell_type": "code",
      "metadata": {
        "id": "6-trda7L-Hee",
        "outputId": "6c92e764-8a9d-468c-dcc9-01bb5e2fb050",
        "colab": {
          "base_uri": "https://localhost:8080/",
          "height": 711
        }
      },
      "source": [
        "partial_x_train = x_train[10_000:]\n",
        "partial_y_train = y_train[10_000:]\n",
        "\n",
        "check_x_train = x_train[:10_000]\n",
        "check_y_train = y_train[:10_000]\n",
        "\n",
        "history = model.fit(partial_x_train, partial_y_train, validation_data=(check_x_train, check_y_train), epochs=20, batch_size=512)\n",
        "\n",
        "old_history = history.history"
      ],
      "execution_count": 7,
      "outputs": [
        {
          "output_type": "stream",
          "text": [
            "Epoch 1/20\n",
            "30/30 [==============================] - 2s 51ms/step - loss: 0.5188 - accuracy: 0.7849 - val_loss: 0.3866 - val_accuracy: 0.8683\n",
            "Epoch 2/20\n",
            "30/30 [==============================] - 1s 37ms/step - loss: 0.3079 - accuracy: 0.8993 - val_loss: 0.3077 - val_accuracy: 0.8854\n",
            "Epoch 3/20\n",
            "30/30 [==============================] - 1s 36ms/step - loss: 0.2242 - accuracy: 0.9276 - val_loss: 0.2814 - val_accuracy: 0.8875\n",
            "Epoch 4/20\n",
            "30/30 [==============================] - 1s 37ms/step - loss: 0.1766 - accuracy: 0.9408 - val_loss: 0.3090 - val_accuracy: 0.8740\n",
            "Epoch 5/20\n",
            "30/30 [==============================] - 1s 36ms/step - loss: 0.1426 - accuracy: 0.9541 - val_loss: 0.2938 - val_accuracy: 0.8823\n",
            "Epoch 6/20\n",
            "30/30 [==============================] - 1s 37ms/step - loss: 0.1137 - accuracy: 0.9657 - val_loss: 0.3050 - val_accuracy: 0.8830\n",
            "Epoch 7/20\n",
            "30/30 [==============================] - 1s 36ms/step - loss: 0.0965 - accuracy: 0.9699 - val_loss: 0.3142 - val_accuracy: 0.8818\n",
            "Epoch 8/20\n",
            "30/30 [==============================] - 1s 37ms/step - loss: 0.0793 - accuracy: 0.9783 - val_loss: 0.3676 - val_accuracy: 0.8759\n",
            "Epoch 9/20\n",
            "30/30 [==============================] - 1s 37ms/step - loss: 0.0677 - accuracy: 0.9807 - val_loss: 0.3603 - val_accuracy: 0.8809\n",
            "Epoch 10/20\n",
            "30/30 [==============================] - 1s 36ms/step - loss: 0.0550 - accuracy: 0.9857 - val_loss: 0.3865 - val_accuracy: 0.8794\n",
            "Epoch 11/20\n",
            "30/30 [==============================] - 1s 36ms/step - loss: 0.0471 - accuracy: 0.9875 - val_loss: 0.4111 - val_accuracy: 0.8785\n",
            "Epoch 12/20\n",
            "30/30 [==============================] - 1s 36ms/step - loss: 0.0348 - accuracy: 0.9935 - val_loss: 0.4460 - val_accuracy: 0.8689\n",
            "Epoch 13/20\n",
            "30/30 [==============================] - 1s 36ms/step - loss: 0.0295 - accuracy: 0.9948 - val_loss: 0.5227 - val_accuracy: 0.8670\n",
            "Epoch 14/20\n",
            "30/30 [==============================] - 1s 36ms/step - loss: 0.0252 - accuracy: 0.9946 - val_loss: 0.5228 - val_accuracy: 0.8711\n",
            "Epoch 15/20\n",
            "30/30 [==============================] - 1s 36ms/step - loss: 0.0186 - accuracy: 0.9973 - val_loss: 0.5353 - val_accuracy: 0.8714\n",
            "Epoch 16/20\n",
            "30/30 [==============================] - 1s 36ms/step - loss: 0.0168 - accuracy: 0.9970 - val_loss: 0.5702 - val_accuracy: 0.8699\n",
            "Epoch 17/20\n",
            "30/30 [==============================] - 1s 37ms/step - loss: 0.0096 - accuracy: 0.9996 - val_loss: 0.6031 - val_accuracy: 0.8668\n",
            "Epoch 18/20\n",
            "30/30 [==============================] - 1s 36ms/step - loss: 0.0100 - accuracy: 0.9985 - val_loss: 0.6473 - val_accuracy: 0.8690\n",
            "Epoch 19/20\n",
            "30/30 [==============================] - 1s 36ms/step - loss: 0.0089 - accuracy: 0.9983 - val_loss: 0.6808 - val_accuracy: 0.8676\n",
            "Epoch 20/20\n",
            "30/30 [==============================] - 1s 36ms/step - loss: 0.0039 - accuracy: 0.9997 - val_loss: 0.7269 - val_accuracy: 0.8612\n"
          ],
          "name": "stdout"
        }
      ]
    },
    {
      "cell_type": "markdown",
      "metadata": {
        "id": "9Kanbivp84fR"
      },
      "source": [
        "ФУНКЦИЯ РИСУЕТ ГРАФИКИ"
      ]
    },
    {
      "cell_type": "code",
      "metadata": {
        "id": "ESZClaE28629",
        "outputId": "150e7574-3057-402e-c4f2-60eb678b8bc2",
        "colab": {
          "base_uri": "https://localhost:8080/",
          "height": 573
        }
      },
      "source": [
        "# функция строит графики после тренировки\n",
        "def draw_graph(history):\n",
        "    loss_values = history[\"loss\"]\n",
        "    validation_loss_values = history[\"val_loss\"]\n",
        "\n",
        "    epochs = range(1, len(history['loss']) + 1)\n",
        "\n",
        "    #               ГРАФИКИ ПОТЕРЬ\n",
        "    # синими точками рисуется график потерь на этапе обучения\n",
        "    plt.plot(epochs, loss_values, 'or', label='Training loss')\n",
        "    # синей линией рисуется график потерь на этапе проверки\n",
        "    plt.plot(epochs, validation_loss_values, 'b', label='Validation loss')\n",
        "    plt.title('Training and validation loss')\n",
        "    plt.xlabel('Epochs')\n",
        "    plt.ylabel('Loss')\n",
        "    plt.legend()\n",
        "    plt.show()\n",
        "\n",
        "    # очищаем рисунок\n",
        "    plt.clf()\n",
        "\n",
        "    #               ГРАФИКИ ОШИБКИ\n",
        "    acc_values = history['accuracy']\n",
        "    validation_acc_values = history['val_accuracy']\n",
        "    plt.plot(epochs, acc_values, 'or', label='Training accuracy')\n",
        "    plt.plot(epochs, validation_acc_values, 'b', label='Validation accuracy')\n",
        "    plt.title('Training and validation accuracy')\n",
        "    plt.xlabel('Epochs')\n",
        "    plt.ylabel('accuracy')\n",
        "    plt.legend()\n",
        "    plt.show()\n",
        "\n",
        "\n",
        "\n",
        "# рисуем все графики\n",
        "draw_graph(old_history)"
      ],
      "execution_count": 8,
      "outputs": [
        {
          "output_type": "display_data",
          "data": {
            "image/png": "[encoded data removed]",
            "text/plain": [
              "<Figure size 432x288 with 1 Axes>"
            ]
          },
          "metadata": {
            "tags": [],
            "needs_background": "light"
          }
        },
        {
          "output_type": "display_data",
          "data": {
            "image/png": "[encoded data removed]",
            "text/plain": [
              "<Figure size 432x288 with 1 Axes>"
            ]
          },
          "metadata": {
            "tags": [],
            "needs_background": "light"
          }
        }
      ]
    },
    {
      "cell_type": "markdown",
      "metadata": {
        "id": "JSlSDbB5_jlh"
      },
      "source": [
        "ЧЕМ МЕНЬШЕ МОДЕЛЬ, ТЕМ ДОЛЬШЕ НЕ НАСТУПАЕТ ПЕРЕОБУЧЕНИЕ"
      ]
    },
    {
      "cell_type": "markdown",
      "metadata": {
        "id": "3dzr5fkZBxy-"
      },
      "source": [
        "ДОБАВИМ РЕГУЛЯРИЗАЦИЮ ВЕСОВ"
      ]
    },
    {
      "cell_type": "code",
      "metadata": {
        "id": "SJVPzWsNB1gg"
      },
      "source": [
        "# Простая модель - это модель, в которой помимо всего прочего распределение весов \n",
        "# будет равномерным. Чтобы оно стало равномерным, необходимо ограничить весовые\n",
        "# коэффициенты. Для этого используются регуляризаторы 2ух видов:\n",
        "# L1 регуляризация - вводится штраф за увеличение весов, пропорциональный модулям\n",
        "# весов\n",
        "# L2 регуляризация - вводится штраф за увеличение весов, пропорциональный квадратам\n",
        "# весов\n",
        "\n",
        "model = Sequential()\n",
        "# l2(0.001) значит, что каждый коэффициент в матрице весов слоя будет добавлять \n",
        "# 0.001 от самого себя в общее значение потерь сети\n",
        "model.add(Dense(16, kernel_regularizer=regularizers.l2(0.001), activation='relu', input_shape=(10000,)))\n",
        "model.add(Dense(16, kernel_regularizer=regularizers.l2(0.001), activation='relu'))\n",
        "model.add(Dense(1, activation='sigmoid'))"
      ],
      "execution_count": 9,
      "outputs": []
    },
    {
      "cell_type": "markdown",
      "metadata": {
        "id": "pIbW1sk1Deqn"
      },
      "source": [
        "КОМПИЛЯЦИЯ МОДЕЛИ"
      ]
    },
    {
      "cell_type": "code",
      "metadata": {
        "id": "94N8wstSDgHu"
      },
      "source": [
        "model.compile(optimizer='rmsprop', loss='binary_crossentropy', metrics=['accuracy'])"
      ],
      "execution_count": 10,
      "outputs": []
    },
    {
      "cell_type": "markdown",
      "metadata": {
        "id": "DLa7DDkeDg4t"
      },
      "source": [
        "ТРЕНИРОВКА МОДЕЛИ"
      ]
    },
    {
      "cell_type": "code",
      "metadata": {
        "id": "vQ0seHxVDiWp",
        "outputId": "6f18ccb9-a200-484a-d771-f4c42d9f72ca",
        "colab": {
          "base_uri": "https://localhost:8080/",
          "height": 711
        }
      },
      "source": [
        "history = model.fit(partial_x_train, partial_y_train, validation_data=(check_x_train, check_y_train), epochs=20, batch_size=512)\n",
        "history = history.history\n"
      ],
      "execution_count": 11,
      "outputs": [
        {
          "output_type": "stream",
          "text": [
            "Epoch 1/20\n",
            "30/30 [==============================] - 1s 46ms/step - loss: 0.5567 - accuracy: 0.7901 - val_loss: 0.4301 - val_accuracy: 0.8677\n",
            "Epoch 2/20\n",
            "30/30 [==============================] - 1s 36ms/step - loss: 0.3559 - accuracy: 0.8973 - val_loss: 0.3733 - val_accuracy: 0.8696\n",
            "Epoch 3/20\n",
            "30/30 [==============================] - 1s 37ms/step - loss: 0.2867 - accuracy: 0.9194 - val_loss: 0.3730 - val_accuracy: 0.8644\n",
            "Epoch 4/20\n",
            "30/30 [==============================] - 1s 37ms/step - loss: 0.2523 - accuracy: 0.9307 - val_loss: 0.3337 - val_accuracy: 0.8880\n",
            "Epoch 5/20\n",
            "30/30 [==============================] - 1s 37ms/step - loss: 0.2347 - accuracy: 0.9375 - val_loss: 0.3612 - val_accuracy: 0.8745\n",
            "Epoch 6/20\n",
            "30/30 [==============================] - 1s 37ms/step - loss: 0.2166 - accuracy: 0.9459 - val_loss: 0.3409 - val_accuracy: 0.8866\n",
            "Epoch 7/20\n",
            "30/30 [==============================] - 1s 37ms/step - loss: 0.2006 - accuracy: 0.9525 - val_loss: 0.3421 - val_accuracy: 0.8842\n",
            "Epoch 8/20\n",
            "30/30 [==============================] - 1s 36ms/step - loss: 0.1942 - accuracy: 0.9558 - val_loss: 0.3700 - val_accuracy: 0.8807\n",
            "Epoch 9/20\n",
            "30/30 [==============================] - 1s 36ms/step - loss: 0.1889 - accuracy: 0.9558 - val_loss: 0.3833 - val_accuracy: 0.8787\n",
            "Epoch 10/20\n",
            "30/30 [==============================] - 1s 37ms/step - loss: 0.1771 - accuracy: 0.9637 - val_loss: 0.3696 - val_accuracy: 0.8822\n",
            "Epoch 11/20\n",
            "30/30 [==============================] - 1s 37ms/step - loss: 0.1755 - accuracy: 0.9629 - val_loss: 0.3842 - val_accuracy: 0.8752\n",
            "Epoch 12/20\n",
            "30/30 [==============================] - 1s 37ms/step - loss: 0.1682 - accuracy: 0.9666 - val_loss: 0.3910 - val_accuracy: 0.8751\n",
            "Epoch 13/20\n",
            "30/30 [==============================] - 1s 37ms/step - loss: 0.1617 - accuracy: 0.9682 - val_loss: 0.3964 - val_accuracy: 0.8767\n",
            "Epoch 14/20\n",
            "30/30 [==============================] - 1s 37ms/step - loss: 0.1664 - accuracy: 0.9641 - val_loss: 0.4323 - val_accuracy: 0.8638\n",
            "Epoch 15/20\n",
            "30/30 [==============================] - 1s 37ms/step - loss: 0.1528 - accuracy: 0.9717 - val_loss: 0.4100 - val_accuracy: 0.8771\n",
            "Epoch 16/20\n",
            "30/30 [==============================] - 1s 38ms/step - loss: 0.1545 - accuracy: 0.9698 - val_loss: 0.4206 - val_accuracy: 0.8727\n",
            "Epoch 17/20\n",
            "30/30 [==============================] - 1s 36ms/step - loss: 0.1548 - accuracy: 0.9709 - val_loss: 0.4396 - val_accuracy: 0.8716\n",
            "Epoch 18/20\n",
            "30/30 [==============================] - 1s 36ms/step - loss: 0.1435 - accuracy: 0.9755 - val_loss: 0.4296 - val_accuracy: 0.8746\n",
            "Epoch 19/20\n",
            "30/30 [==============================] - 1s 36ms/step - loss: 0.1453 - accuracy: 0.9741 - val_loss: 0.4438 - val_accuracy: 0.8736\n",
            "Epoch 20/20\n",
            "30/30 [==============================] - 1s 37ms/step - loss: 0.1409 - accuracy: 0.9753 - val_loss: 0.4914 - val_accuracy: 0.8580\n"
          ],
          "name": "stdout"
        }
      ]
    },
    {
      "cell_type": "markdown",
      "metadata": {
        "id": "IAbifW-qELn1"
      },
      "source": [
        "ФУНКЦИЯ ВЫВОДИТ ГРАФИКИ ДВУХ МОДЕЛЕЙ"
      ]
    },
    {
      "cell_type": "code",
      "metadata": {
        "id": "wCRQIY4fEOzM",
        "outputId": "9df6babf-5711-46ef-b0ed-5b098f202e86",
        "colab": {
          "base_uri": "https://localhost:8080/",
          "height": 295
        }
      },
      "source": [
        "# функция строит графики после тренировки\n",
        "def draw_graph(history_1, history_2):\n",
        "    validation_loss_values_1 = history_1[\"val_loss\"]\n",
        "\n",
        "    epochs = range(1, len(history_1['loss']) + 1)\n",
        "\n",
        "    #               МОДЕЛЬ 1\n",
        "    #               ГРАФИКИ ПОТЕРЬ - СИНИМ\n",
        "    plt.plot(epochs, validation_loss_values_1, 'b', label='m1_val_loss')\n",
        "    plt.title('Training and validation loss OLD MODEL')\n",
        "    plt.xlabel('Epochs')\n",
        "    plt.ylabel('Loss')\n",
        "\n",
        "\n",
        "    #               МОДЕЛЬ 2 \n",
        "    #               ГРАФИКИ ПОТЕРЬ - КРАСНЫМ\n",
        "    validation_loss_values_2 = history_2[\"val_loss\"]\n",
        "    plt.plot(epochs, validation_loss_values_2, 'r', label='m2_val_loss')\n",
        "    plt.title('Training and validation loss NEW MODEL')\n",
        "    plt.xlabel('Epochs')\n",
        "    plt.ylabel('Loss')\n",
        "    plt.legend()\n",
        "\n",
        "    plt.legend()\n",
        "    plt.show()\n",
        "\n",
        "\n",
        "# рисуем все графики\n",
        "draw_graph(old_history, history)"
      ],
      "execution_count": 16,
      "outputs": [
        {
          "output_type": "display_data",
          "data": {
            "image/png": "[encoded data removed]",
            "text/plain": [
              "<Figure size 432x288 with 1 Axes>"
            ]
          },
          "metadata": {
            "tags": [],
            "needs_background": "light"
          }
        }
      ]
    },
    {
      "cell_type": "markdown",
      "metadata": {
        "id": "VH33YFkgNrTp"
      },
      "source": [
        "ЗАМЕТНО, ЧТО ПОСЛЕ ДОБАВЛЕНИЯ РЕГУЛЯРИЗАЦИИ ПОТЕРЯ НА ВАЛИДАЦИИ РАСТЕТ МЕДЛЕНЕЕ, ЧТО ГОВОРИТ О БОЛЕЕ МЕДЛЕННОМ ПЕРЕОБУЧЕНИИ"
      ]
    },
    {
      "cell_type": "markdown",
      "metadata": {
        "id": "19IHWc7weokC"
      },
      "source": [
        "ДОБАВЛЕНИЕ ПРОРЕЖИВАНИЯ"
      ]
    },
    {
      "cell_type": "code",
      "metadata": {
        "id": "RISemhdsex8n"
      },
      "source": [
        "# прореживание - обнуление случайно выбранных признаков на обучениии\n",
        "# это помогает справиться с переобучением\n",
        "# введение \"шума\" в выходные значения может разбить \"шаблоны\", которые создаются\n",
        "# в сетке припереобучении\n",
        "model = Sequential()\n",
        "model.add(Dense(16, activation='relu', input_shape=(10000,)))\n",
        "model.add(Dropout(0.5)) # коэффициент показывает сколько процентов обнуляется\n",
        "model.add(Dense(16, activation='relu'))\n",
        "model.add(Dropout(0.5))\n",
        "model.add(Dense(1, activation='sigmoid'))"
      ],
      "execution_count": 28,
      "outputs": []
    },
    {
      "cell_type": "code",
      "metadata": {
        "id": "3O2cJyojfmAO"
      },
      "source": [
        "model.compile(optimizer='rmsprop', loss='binary_crossentropy', metrics=['accuracy'])"
      ],
      "execution_count": 29,
      "outputs": []
    },
    {
      "cell_type": "code",
      "metadata": {
        "id": "hKthdxwWfn1o",
        "outputId": "f2499295-ca84-43db-e501-9a63b97b7749",
        "colab": {
          "base_uri": "https://localhost:8080/",
          "height": 711
        }
      },
      "source": [
        "history = model.fit(partial_x_train, partial_y_train, validation_data=(check_x_train, check_y_train), epochs=20, batch_size=512)\n",
        "history = history.history\n"
      ],
      "execution_count": 30,
      "outputs": [
        {
          "output_type": "stream",
          "text": [
            "Epoch 1/20\n",
            "30/30 [==============================] - 3s 99ms/step - loss: 0.6303 - accuracy: 0.6439 - val_loss: 0.5277 - val_accuracy: 0.8224\n",
            "Epoch 2/20\n",
            "30/30 [==============================] - 1s 36ms/step - loss: 0.5134 - accuracy: 0.7641 - val_loss: 0.3999 - val_accuracy: 0.8725\n",
            "Epoch 3/20\n",
            "30/30 [==============================] - 1s 36ms/step - loss: 0.4262 - accuracy: 0.8215 - val_loss: 0.3420 - val_accuracy: 0.8819\n",
            "Epoch 4/20\n",
            "30/30 [==============================] - 1s 35ms/step - loss: 0.3601 - accuracy: 0.8566 - val_loss: 0.3128 - val_accuracy: 0.8777\n",
            "Epoch 5/20\n",
            "30/30 [==============================] - 1s 36ms/step - loss: 0.3121 - accuracy: 0.8833 - val_loss: 0.2820 - val_accuracy: 0.8881\n",
            "Epoch 6/20\n",
            "30/30 [==============================] - 1s 36ms/step - loss: 0.2691 - accuracy: 0.9031 - val_loss: 0.2858 - val_accuracy: 0.8844\n",
            "Epoch 7/20\n",
            "30/30 [==============================] - 1s 36ms/step - loss: 0.2406 - accuracy: 0.9159 - val_loss: 0.2760 - val_accuracy: 0.8877\n",
            "Epoch 8/20\n",
            "30/30 [==============================] - 1s 36ms/step - loss: 0.2112 - accuracy: 0.9297 - val_loss: 0.2824 - val_accuracy: 0.8891\n",
            "Epoch 9/20\n",
            "30/30 [==============================] - 1s 36ms/step - loss: 0.1877 - accuracy: 0.9366 - val_loss: 0.2990 - val_accuracy: 0.8906\n",
            "Epoch 10/20\n",
            "30/30 [==============================] - 1s 36ms/step - loss: 0.1677 - accuracy: 0.9451 - val_loss: 0.3098 - val_accuracy: 0.8875\n",
            "Epoch 11/20\n",
            "30/30 [==============================] - 1s 36ms/step - loss: 0.1547 - accuracy: 0.9507 - val_loss: 0.3323 - val_accuracy: 0.8883\n",
            "Epoch 12/20\n",
            "30/30 [==============================] - 1s 36ms/step - loss: 0.1360 - accuracy: 0.9549 - val_loss: 0.3487 - val_accuracy: 0.8873\n",
            "Epoch 13/20\n",
            "30/30 [==============================] - 1s 36ms/step - loss: 0.1237 - accuracy: 0.9623 - val_loss: 0.3636 - val_accuracy: 0.8864\n",
            "Epoch 14/20\n",
            "30/30 [==============================] - 1s 35ms/step - loss: 0.1132 - accuracy: 0.9640 - val_loss: 0.3945 - val_accuracy: 0.8850\n",
            "Epoch 15/20\n",
            "30/30 [==============================] - 1s 36ms/step - loss: 0.1075 - accuracy: 0.9674 - val_loss: 0.4230 - val_accuracy: 0.8842\n",
            "Epoch 16/20\n",
            "30/30 [==============================] - 1s 36ms/step - loss: 0.0947 - accuracy: 0.9683 - val_loss: 0.4459 - val_accuracy: 0.8852\n",
            "Epoch 17/20\n",
            "30/30 [==============================] - 1s 36ms/step - loss: 0.0915 - accuracy: 0.9695 - val_loss: 0.4597 - val_accuracy: 0.8849\n",
            "Epoch 18/20\n",
            "30/30 [==============================] - 1s 36ms/step - loss: 0.0846 - accuracy: 0.9733 - val_loss: 0.5097 - val_accuracy: 0.8850\n",
            "Epoch 19/20\n",
            "30/30 [==============================] - 1s 36ms/step - loss: 0.0807 - accuracy: 0.9745 - val_loss: 0.5541 - val_accuracy: 0.8857\n",
            "Epoch 20/20\n",
            "30/30 [==============================] - 1s 35ms/step - loss: 0.0769 - accuracy: 0.9743 - val_loss: 0.5514 - val_accuracy: 0.8832\n"
          ],
          "name": "stdout"
        }
      ]
    },
    {
      "cell_type": "code",
      "metadata": {
        "id": "4icjQFiHf36P",
        "outputId": "f5fa71a2-c2aa-4f2e-fb9d-e8fade1faf94",
        "colab": {
          "base_uri": "https://localhost:8080/",
          "height": 295
        }
      },
      "source": [
        "draw_graph(old_history, history)"
      ],
      "execution_count": 31,
      "outputs": [
        {
          "output_type": "display_data",
          "data": {
            "image/png": "[encoded data removed]",
            "text/plain": [
              "<Figure size 432x288 with 1 Axes>"
            ]
          },
          "metadata": {
            "tags": [],
            "needs_background": "light"
          }
        }
      ]
    }
  ]
}