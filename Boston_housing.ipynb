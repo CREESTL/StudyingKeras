{
  "nbformat": 4,
  "nbformat_minor": 0,
  "metadata": {
    "colab": {
      "name": "Boston_housing",
      "provenance": []
    },
    "kernelspec": {
      "name": "python3",
      "display_name": "Python 3"
    }
  },
  "cells": [
    {
      "cell_type": "markdown",
      "metadata": {
        "id": "Lq9LGbomOVVe"
      },
      "source": [
        "Набор данных, который нам предстоит использовать, имеет интересное отличие от двух предыдущих примеров. Он содержит относительно немного образцов данных: всего 506, разбитых на 404 обучающих и 102 контрольных образца. И каждый признак во входных данных (например, уровень преступности) имеет свой масштаб. Например, некоторые признаки являются пропорциями и имеют значения между 0 и 1, другие — между 1 и 12 и т. д."
      ]
    },
    {
      "cell_type": "markdown",
      "metadata": {
        "id": "vBlHzBntOsPD"
      },
      "source": [
        "УСТАНОВКА ВСЕХ НЕОБХОДИМЫХ МОДУЛЕЙ"
      ]
    },
    {
      "cell_type": "code",
      "metadata": {
        "id": "UweAXvM0Ov2j"
      },
      "source": [
        "from keras.datasets import boston_housing\n",
        "from keras.models import Sequential\n",
        "from keras.layers import Dense\n",
        "import matplotlib.pyplot as plt\n",
        "import numpy as np"
      ],
      "execution_count": null,
      "outputs": []
    },
    {
      "cell_type": "markdown",
      "metadata": {
        "id": "q_ewnAIEOX43"
      },
      "source": [
        "ЗАГРУЗКА ДАННЫХ"
      ]
    },
    {
      "cell_type": "code",
      "metadata": {
        "id": "R4ItenmHNsO_",
        "outputId": "ee405bea-449a-4c5b-c847-afcaa4cab3a7",
        "colab": {
          "base_uri": "https://localhost:8080/",
          "height": 90
        }
      },
      "source": [
        "(train_data, train_targets), (test_data, test_targets) = boston_housing.load_data()\n",
        "\n",
        "print(train_data.shape) # обучающие образцы\n",
        "print(test_data.shape) # контрольные образцы\n",
        "\n",
        "print(train_targets[:20]) # цены домов"
      ],
      "execution_count": null,
      "outputs": [
        {
          "output_type": "stream",
          "text": [
            "(404, 13)\n",
            "(102, 13)\n",
            "[15.2 42.3 50.  21.1 17.7 18.5 11.3 15.6 15.6 14.4 12.1 17.9 23.1 19.9\n",
            " 15.7  8.8 50.  22.5 24.1 27.5]\n"
          ],
          "name": "stdout"
        }
      ]
    },
    {
      "cell_type": "markdown",
      "metadata": {
        "id": "OB2TbXZ0PX5F"
      },
      "source": [
        "ВСЕ ДАННЫЕ ИМЕЮТ РАЗНЫЕ ПРОПОРЦИИ: НЕКОТОРЫЕ ПРИНИМАЮТ ЗНАЧЕНИЯ ОТ 0 ДО 1, А ДРУГИЕ - ОТ 1 ДО 12 И Т.Д.\n",
        "ИХ НЕОБХОДИМО НОРМАЛИЗОВАТЬ"
      ]
    },
    {
      "cell_type": "code",
      "metadata": {
        "id": "6oeoLPeOQT6N"
      },
      "source": [
        "mean = train_data.mean(axis=0) # вычисляется среднее значение по столбцу\n",
        "train_data -= mean # из каждого элемента столбца вычитается среднее значение\n",
        "std = train_data.std(axis=0) # вычисляется стандартное отклонение \n",
        "train_data /= std # каждый элемент делится на стандартное отклонение\n",
        "\n",
        "'''\n",
        "в результате получается, что признак центрируется по нулевому значению и имеет \n",
        "стандратное отклонение, равное 1\n",
        "'''\n",
        "\n",
        "test_data -= mean\n",
        "test_data /= std"
      ],
      "execution_count": null,
      "outputs": []
    },
    {
      "cell_type": "markdown",
      "metadata": {
        "id": "q_L7enIgShKr"
      },
      "source": [
        "СОЗДАНИЕ МОДЕЛИ\n"
      ]
    },
    {
      "cell_type": "code",
      "metadata": {
        "id": "dQrBVYAeSjTU"
      },
      "source": [
        "def build_model():\n",
        "  model = Sequential()\n",
        "  # чем меньше данных, тем скорее наступит переобучение\n",
        "  # использование маленькой сетки - способ борьбы с переобучением\n",
        "  model.add(Dense(64, activation='relu', input_shape=(train_data.shape[1],)))\n",
        "  model.add(Dense(64, activation='relu'))\n",
        "  # в задаче регрессии последний слой просто должен вывести предсказанное значение,\n",
        "  # не изменяя его\n",
        "  # если поставить функцию активации, то она будет искажать результат\n",
        "  model.add(Dense(1))\n",
        "\n",
        "  model.compile(optimizer='rmsprop', loss='mse', metrics=['mae'])\n",
        "\n",
        "  return model"
      ],
      "execution_count": null,
      "outputs": []
    },
    {
      "cell_type": "markdown",
      "metadata": {
        "id": "Ld6CUQNSVXrt"
      },
      "source": [
        "ПЕРЕКРЕСТНАЯ ПРОВЕРКА ПО K-БЛОКАМ"
      ]
    },
    {
      "cell_type": "code",
      "metadata": {
        "id": "bis9dg_CVcKW",
        "outputId": "cfb2c095-f0bb-46c8-ba09-8a3724fd2a02",
        "colab": {
          "base_uri": "https://localhost:8080/",
          "height": 90
        }
      },
      "source": [
        "'''\n",
        "Если исходных данных немного, то если мы разделим их на тренировочные и проверочные,\n",
        "то проверочных будет очень мало.\n",
        "В таких случаях реализуется метод проверки к-блоков.\n",
        "Все данные делятся на К блоков. \n",
        "Создается параллельно К моделей.\n",
        "Все модели обучаются на К-1 блоках с оценкой по оставшимся блокам.\n",
        "Например, если блока три:\n",
        "  Прогон 1: (проверка) (обучение) (обучение) -> оценка 1 \n",
        "  Прогон 2: (проверка) (проверка) (обучение) -> оценка 2\n",
        "  Прогон 3: (проверка) (обучение) (проверка) -> оценка 3\n",
        "\n",
        "Потом по всем оценкам находится среднее и принимается за оценку всей модели.\n",
        "'''\n",
        "def k_blocks(num_blocks, num_epochs):\n",
        "  num_val_samples = len(train_data) // k # количество образцов для проверки\n",
        "  all_scores = [] # массив, в который записываются оценки каждого прогона\n",
        "  all_mae_histories = [] # массив, в который записывается история изменение средней ошибки за каждый прогон\n",
        "\n",
        "  for i in range(k):\n",
        "    print(f' processing fold №{i}')\n",
        "    # данные и метки для проверки\n",
        "    val_data = train_data[i * num_val_samples: (i+1) * num_val_samples]\n",
        "    val_targets = train_targets[i * num_val_samples: (i+1) * num_val_samples]\n",
        "    \n",
        "    # оставшиеся данные и метки для тренировки\n",
        "    partial_train_data = np.concatenate([train_data[:i * num_val_samples], train_data[(i+1) * num_val_samples:]], axis=0)\n",
        "    partial_train_targets = np.concatenate( [train_targets[:i * num_val_samples], train_targets[(i + 1) * num_val_samples:]], axis=0)\n",
        "\n",
        "    # модель компилируется с помощью ранее созданной мной функции\n",
        "    model = build_model()\n",
        "\n",
        "    # тренировка модели\n",
        "    history = model.fit(partial_train_data, partial_train_targets, validation_data=(val_data, val_targets), epochs=num_epochs, batch_size=1, verbose=0)\n",
        "\n",
        "    # вычисление ошибок на проверке\n",
        "    val_mse, val_mae = model.evaluate(val_data, val_targets, verbose=0)\n",
        "    all_scores.append(val_mae)\n",
        "\n",
        "    # запись истории изменения ошибки\n",
        "    mae_history = history.history['val_mae']\n",
        "    all_mae_histories.append(mae_history)\n",
        "\n",
        "  return all_scores, all_mae_histories\n",
        "\n",
        "\n",
        "\n",
        "all_scores, all_mae_histories = k_blocks(num_blocks=4, num_epochs=100)"
      ],
      "execution_count": null,
      "outputs": [
        {
          "output_type": "stream",
          "text": [
            " processing fold №0\n",
            " processing fold №1\n",
            " processing fold №2\n",
            " processing fold №3\n"
          ],
          "name": "stdout"
        }
      ]
    },
    {
      "cell_type": "markdown",
      "metadata": {
        "id": "VHdr2lJhnRjS"
      },
      "source": [
        "ТЕПЕРЬ МОЖНО ВЫЧИСЛИТЬ СРЕДНЕЕ ЗНАЧЕНИЕ ОШИБКИ ЗА ВСЕ ПРОГОНЫ И СРЕДНЕЕ ЗНАЧЕНИЕ ОЦЕНКИ"
      ]
    },
    {
      "cell_type": "code",
      "metadata": {
        "id": "DgUJv7K1nXOr"
      },
      "source": [
        "average_mae_history = [np.mean([x[i] for x in all_mae_histories]) for i in range(num_epochs)]\n",
        "\n",
        "average_score = np.mean(all_scores)"
      ],
      "execution_count": null,
      "outputs": []
    },
    {
      "cell_type": "markdown",
      "metadata": {
        "id": "pI-OQGhGn8at"
      },
      "source": [
        "ПОСТРОИМ ГРАФИК С ОЦЕНКАМИ ПРОВЕРОК ЗА ИСКЛЮЧЕНИЕМ ПЕРВЫХ 10ТИ ЗАМЕРОВ"
      ]
    },
    {
      "cell_type": "code",
      "metadata": {
        "id": "w3XXuo2roBdt",
        "outputId": "cd7b951b-709e-4bda-d95a-8fa53b8fdf2f",
        "colab": {
          "base_uri": "https://localhost:8080/",
          "height": 279
        }
      },
      "source": [
        "# заменим каждую оценку экспоненциально скользящим средним по предыдущим оценкам, \n",
        "# чтобы получить более гладкую кривую\n",
        "def smooth_curve(points, factor=0.9):\n",
        "  smoothed_points = []\n",
        "  for point in points:\n",
        "    if smoothed_points:\n",
        "      previous = smoothed_points[-1]\n",
        "      smoothed_points.append(previous * factor + point * (1 - factor))\n",
        "    else:\n",
        "      smoothed_points.append(point)\n",
        "  return smoothed_points\n",
        "\n",
        "smooth_mae_history = smooth_curve(average_mae_history[10:])\n",
        "\n",
        "plt.plot(range(1, len(smooth_mae_history) + 1), smooth_mae_history)\n",
        "plt.xlabel('Epochs')\n",
        "plt.ylabel('Validation MAE')\n",
        "plt.show()\n",
        "# по графику видим, что переобучение начинается после 80ой эпохи"
      ],
      "execution_count": null,
      "outputs": [
        {
          "output_type": "display_data",
          "data": {
            "image/png": "[encoded data removed]",
            "text/plain": [
              "<Figure size 432x288 with 1 Axes>"
            ]
          },
          "metadata": {
            "tags": [],
            "needs_background": "light"
          }
        }
      ]
    },
    {
      "cell_type": "markdown",
      "metadata": {
        "id": "sUDW4zdppUxO"
      },
      "source": [
        "ОБУЧЕНИЕ ОКОНЧАТЕЛЬНОЙ ВЕРСИИ МОДЕЛИ"
      ]
    },
    {
      "cell_type": "code",
      "metadata": {
        "id": "Ee5gl4RspXbX",
        "outputId": "599fc13a-737c-4d4b-e2c8-a6bc47d82d6f",
        "colab": {
          "base_uri": "https://localhost:8080/",
          "height": 54
        }
      },
      "source": [
        "model = build_model()\n",
        "model.fit(train_data, train_targets, epochs=80, batch_size=16, verbose=0)\n",
        "test_mse_score, test_mae_score = model.evaluate(test_data, test_targets)\n",
        "\n",
        "# окончательный результат \n",
        "print(f\"Mean error is {round(test_mae_score * 1000)} dollars\")"
      ],
      "execution_count": null,
      "outputs": [
        {
          "output_type": "stream",
          "text": [
            "4/4 [==============================] - 0s 2ms/step - loss: 21.9738 - mae: 3.1633\n",
            "Mean error is 3163 dollars\n"
          ],
          "name": "stdout"
        }
      ]
    }
  ]
}