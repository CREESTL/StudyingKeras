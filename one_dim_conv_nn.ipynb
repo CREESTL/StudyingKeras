{
  "nbformat": 4,
  "nbformat_minor": 0,
  "metadata": {
    "colab": {
      "name": "one_dim_conv_nn",
      "provenance": [],
      "collapsed_sections": []
    },
    "kernelspec": {
      "name": "python3",
      "display_name": "Python 3"
    },
    "accelerator": "GPU"
  },
  "cells": [
    {
      "cell_type": "markdown",
      "metadata": {
        "id": "LdcNUXhw5Ibz"
      },
      "source": [
        "# В данном ноутбуке представлены примеры работа одномерной сверточной нейронной сети"
      ]
    },
    {
      "cell_type": "markdown",
      "metadata": {
        "id": "-VfF9s_u5OaI"
      },
      "source": [
        "Создадим одномерную сверточную сеть для анализа IMDB"
      ]
    },
    {
      "cell_type": "code",
      "metadata": {
        "id": "McDM6P_J4-dM",
        "outputId": "fa1740da-be9f-4490-8376-fd664e59b008",
        "colab": {
          "base_uri": "https://localhost:8080/"
        }
      },
      "source": [
        "# ОСС извлекает массив размером (5, N) из текста, затем скалярно умножает его на матрицу\n",
        "# свертки и получает массив размером (1, N) - сжимается размерность\n",
        "# Одномерные сверточные слои с размером окна, скажем, 5, могут запомнить в \n",
        "# последовательности слов слово или часть слова длиной 5 символов, и распознать\n",
        "# этот фрагмент в любой другой части последовательности.\n",
        "\n",
        "from keras.datasets import imdb\n",
        "from keras.models import Sequential\n",
        "from keras.layers import Flatten, Dense, Conv1D, MaxPooling1D, Embedding, GlobalMaxPooling1D\n",
        "from keras.preprocessing.sequence import pad_sequences\n",
        "\n",
        "num_words = 10_000\n",
        "max_length = 500\n",
        "\n",
        "(x_train, y_train), (x_test, y_test) = imdb.load_data(num_words=num_words)\n",
        "\n",
        "x_train = pad_sequences(x_train, maxlen = max_length)\n",
        "x_test = pad_sequences(x_test, maxlen = max_length)\n",
        "\n",
        "# в одномерном сверточном слое мы можем использовать большее окно свертки, \n",
        "# чем в двумерном, так как здесь только одна осьб\n",
        "\n",
        "model = Sequential()\n",
        "# превращает целые числа в векторы фиксированной размерности\n",
        "# может быть только первым слоем\n",
        "model.add(Embedding(num_words, 128, input_length = max_length))\n",
        "model.add(Conv1D(32, 7, activation='relu'))\n",
        "model.add(MaxPooling1D(5))\n",
        "model.add(Conv1D(32, 7, activation='relu'))\n",
        "model.add(GlobalMaxPooling1D())\n",
        "model.add(Dense(1))\n",
        "\n",
        "model.summary()\n",
        "\n",
        "model.compile(\n",
        "    optimizer='rmsprop',\n",
        "    loss='binary_crossentropy', \n",
        "    metrics=['accuracy']\n",
        ")\n",
        "\n",
        "history = model.fit(\n",
        "    x_train, \n",
        "    y_train,\n",
        "    batch_size=128,\n",
        "    epochs=20,\n",
        "    validation_split=0.3\n",
        ").history\n"
      ],
      "execution_count": null,
      "outputs": [
        {
          "output_type": "stream",
          "text": [
            "Model: \"sequential_2\"\n",
            "_________________________________________________________________\n",
            "Layer (type)                 Output Shape              Param #   \n",
            "=================================================================\n",
            "embedding_2 (Embedding)      (None, 500, 128)          1280000   \n",
            "_________________________________________________________________\n",
            "conv1d_4 (Conv1D)            (None, 494, 32)           28704     \n",
            "_________________________________________________________________\n",
            "max_pooling1d_2 (MaxPooling1 (None, 98, 32)            0         \n",
            "_________________________________________________________________\n",
            "conv1d_5 (Conv1D)            (None, 92, 32)            7200      \n",
            "_________________________________________________________________\n",
            "global_max_pooling1d_2 (Glob (None, 32)                0         \n",
            "_________________________________________________________________\n",
            "dense_2 (Dense)              (None, 1)                 33        \n",
            "=================================================================\n",
            "Total params: 1,315,937\n",
            "Trainable params: 1,315,937\n",
            "Non-trainable params: 0\n",
            "_________________________________________________________________\n",
            "Epoch 1/20\n",
            "137/137 [==============================] - 5s 37ms/step - loss: 0.6311 - accuracy: 0.6627 - val_loss: 0.3836 - val_accuracy: 0.8496\n",
            "Epoch 2/20\n",
            "137/137 [==============================] - 5s 33ms/step - loss: 0.3706 - accuracy: 0.8763 - val_loss: 0.3746 - val_accuracy: 0.8759\n",
            "Epoch 3/20\n",
            "137/137 [==============================] - 5s 33ms/step - loss: 0.2794 - accuracy: 0.9189 - val_loss: 0.4781 - val_accuracy: 0.8808\n",
            "Epoch 4/20\n",
            "137/137 [==============================] - 5s 33ms/step - loss: 0.2222 - accuracy: 0.9499 - val_loss: 0.5747 - val_accuracy: 0.8819\n",
            "Epoch 5/20\n",
            "137/137 [==============================] - 5s 33ms/step - loss: 0.1520 - accuracy: 0.9718 - val_loss: 0.6693 - val_accuracy: 0.8836\n",
            "Epoch 6/20\n",
            "137/137 [==============================] - 5s 33ms/step - loss: 0.1178 - accuracy: 0.9830 - val_loss: 0.7337 - val_accuracy: 0.8803\n",
            "Epoch 7/20\n",
            "137/137 [==============================] - 5s 33ms/step - loss: 0.0967 - accuracy: 0.9875 - val_loss: 0.8182 - val_accuracy: 0.8799\n",
            "Epoch 8/20\n",
            "137/137 [==============================] - 5s 33ms/step - loss: 0.0850 - accuracy: 0.9910 - val_loss: 0.9350 - val_accuracy: 0.8808\n",
            "Epoch 9/20\n",
            "137/137 [==============================] - 5s 34ms/step - loss: 0.0773 - accuracy: 0.9932 - val_loss: 0.9621 - val_accuracy: 0.8785\n",
            "Epoch 10/20\n",
            "137/137 [==============================] - 5s 33ms/step - loss: 0.0812 - accuracy: 0.9924 - val_loss: 1.0003 - val_accuracy: 0.8771\n",
            "Epoch 11/20\n",
            "137/137 [==============================] - 5s 34ms/step - loss: 0.0774 - accuracy: 0.9925 - val_loss: 1.0569 - val_accuracy: 0.8784\n",
            "Epoch 12/20\n",
            "137/137 [==============================] - 5s 34ms/step - loss: 0.0712 - accuracy: 0.9943 - val_loss: 1.0659 - val_accuracy: 0.8752\n",
            "Epoch 13/20\n",
            "137/137 [==============================] - 5s 33ms/step - loss: 0.0716 - accuracy: 0.9939 - val_loss: 1.0538 - val_accuracy: 0.8795\n",
            "Epoch 14/20\n",
            "137/137 [==============================] - 5s 34ms/step - loss: 0.0703 - accuracy: 0.9949 - val_loss: 1.0803 - val_accuracy: 0.8811\n",
            "Epoch 15/20\n",
            "137/137 [==============================] - 5s 34ms/step - loss: 0.0709 - accuracy: 0.9942 - val_loss: 1.1648 - val_accuracy: 0.8735\n",
            "Epoch 16/20\n",
            "137/137 [==============================] - 5s 33ms/step - loss: 0.0697 - accuracy: 0.9949 - val_loss: 1.1054 - val_accuracy: 0.8815\n",
            "Epoch 17/20\n",
            "137/137 [==============================] - 5s 34ms/step - loss: 0.0698 - accuracy: 0.9945 - val_loss: 1.1399 - val_accuracy: 0.8820\n",
            "Epoch 18/20\n",
            "137/137 [==============================] - 5s 34ms/step - loss: 0.0695 - accuracy: 0.9947 - val_loss: 1.1604 - val_accuracy: 0.8803\n",
            "Epoch 19/20\n",
            "137/137 [==============================] - 5s 33ms/step - loss: 0.0681 - accuracy: 0.9949 - val_loss: 1.2102 - val_accuracy: 0.8804\n",
            "Epoch 20/20\n",
            "137/137 [==============================] - 5s 33ms/step - loss: 0.0709 - accuracy: 0.9947 - val_loss: 1.2111 - val_accuracy: 0.8789\n"
          ],
          "name": "stdout"
        }
      ]
    },
    {
      "cell_type": "code",
      "metadata": {
        "id": "qhb7hhol8xxb",
        "outputId": "a102bbc9-ac4a-407b-8ac6-e9f47b87b225",
        "colab": {
          "base_uri": "https://localhost:8080/",
          "height": 281
        }
      },
      "source": [
        "def draw_graph(history):\n",
        "  import matplotlib.pyplot as plt\n",
        "  loss = history['loss']\n",
        "  val_loss = history['val_loss']\n",
        "  epochs = range(1, len(loss) + 1)\n",
        "  plt.figure()\n",
        "  plt.plot(epochs, loss, 'bo', label='Training loss')\n",
        "  plt.plot(epochs, val_loss, 'b', label='Validation loss')\n",
        "  plt.title('Training and validation loss')\n",
        "  plt.legend()\n",
        "  plt.show()\n",
        "\n",
        "draw_graph(history)"
      ],
      "execution_count": null,
      "outputs": [
        {
          "output_type": "display_data",
          "data": {
            "image/png": "[encoded data removed]",
            "text/plain": [
              "<Figure size 432x288 with 1 Axes>"
            ]
          },
          "metadata": {
            "tags": [],
            "needs_background": "light"
          }
        }
      ]
    },
    {
      "cell_type": "code",
      "metadata": {
        "id": "fiwSnI5l83CL",
        "outputId": "24a5f668-03a5-41ae-83ad-6e9053b0dcd6",
        "colab": {
          "base_uri": "https://localhost:8080/"
        }
      },
      "source": [
        "mse, mae = model.evaluate(x_test, y_test, verbose=1)\n",
        "\n",
        "mae"
      ],
      "execution_count": null,
      "outputs": [
        {
          "output_type": "stream",
          "text": [
            "782/782 [==============================] - 3s 4ms/step - loss: 1.3351 - accuracy: 0.8626\n"
          ],
          "name": "stdout"
        },
        {
          "output_type": "execute_result",
          "data": {
            "text/plain": [
              "0.862559974193573"
            ]
          },
          "metadata": {
            "tags": []
          },
          "execution_count": 7
        }
      ]
    },
    {
      "cell_type": "markdown",
      "metadata": {
        "id": "IKAJGAqXE1zT"
      },
      "source": [
        "Одномерные сверточные нейронные сети не чувствительный к порядке следования токенов. Это эффективно в тексте. Но, например, при предсказании температуры - крайне неэффективно, так как там порядок имеет важнейшую роль."
      ]
    },
    {
      "cell_type": "markdown",
      "metadata": {
        "id": "FEghnyXSFEDd"
      },
      "source": [
        "Пример предсказание температуры с помощью одномерных сверточных нейронный сетей"
      ]
    },
    {
      "cell_type": "code",
      "metadata": {
        "id": "4NZKwyY8FJoF"
      },
      "source": [
        "# все данные идентичны ноутбуку RNN_jena\n",
        "\n",
        "import pandas as pd\n",
        "import numpy as np\n",
        "\n",
        "data_path = '/content/drive/My Drive/StudyingKeras/RNN/jena_climate_data_2009_20016/jena_climate_2009_2016.csv'\n",
        "\n",
        "# Этот код выведет 420 551 строку с данными - каждая строка соответствует\n",
        "# одному замеру и содержит дату замера и 14 значений разных параметров\n",
        "data = pd.read_csv(data_path)\n",
        "\n",
        "\n",
        "with open(data_path, 'r') as f:\n",
        "  data = f.read()\n",
        "\n",
        "# получение всех строк \n",
        "lines = data.split('\\n')\n",
        "# получение заголовков всех столбцов\n",
        "header = lines[0].split(',')\n",
        "lines = lines[1:]\n",
        "\n",
        "float_data = np.zeros((len(lines), len(header) - 1))\n",
        "for i, line in enumerate(lines):\n",
        "  # каждое значение в строке отделено запятой\n",
        "  values = [float(x) for x in line.split(',')[1:]]\n",
        "  # все переведенные в float числа помещает в массив\n",
        "  float_data[i, :] = values\n",
        "\n",
        "# все данные измеряются в разных диапозонах (температура, давление...)\n",
        "# поэтому нормализуем их\n",
        "mean = float_data[:200_000].mean(axis=0)\n",
        "float_data -= mean\n",
        "std = float_data[:200_000].std(axis=0)\n",
        "float_data /= std\n",
        "\n",
        "# принимает: текущий массив данных\n",
        "# возвращает: пакеты, представляющие собой недавнее прошлое, предсказанную температуру\n",
        "# data - нормализованные данные\n",
        "# lookback - количество интервалов из прошлого\n",
        "# delay - количество интервалов из будущего\n",
        "# min_index, max_index - границы в data, в которых выбираются значения\n",
        "# shuffle - извлекать по порядку или с перемешиванием\n",
        "# batch_size - количество образцов в пакете\n",
        "# step - период в интервалах, в котором выбираются значения (6 - значит каждый час)\n",
        "\n",
        "def generator(data, lookback, delay, min_index, max_index, \n",
        "              shuffle=False, batch_size=128, step=6):\n",
        "  # если правая граница не указана - она определяется сама\n",
        "  if max_index is None:\n",
        "    max_index = len(data) - delay - 1\n",
        "  # правая граница первого интервала\n",
        "  i = min_index + lookback\n",
        "  while True:\n",
        "    if shuffle:\n",
        "      # если данные не извлекаются по порядку, то генерируем список случайных\n",
        "      # строк, откуда эти данные будем брать\n",
        "      rows = np.random.randint(min_index + lookback, max_index, size=batch_size)\n",
        "    else:\n",
        "      if i + batch_size > max_index:\n",
        "        # если дошли до конца (до самой правой границы), то возвращаемся в начало\n",
        "        i = min_index + lookback\n",
        "      # генерируем список подряд идущиъ индексов строк\n",
        "      rows = np.arange(i, min(i + batch_size, max_index))\n",
        "      # смещаем правую границу первого интервала к концу только что созданного списка\n",
        "      # так как мы его будем обрабатывать и больше его начало нас не интересует\n",
        "      i += len(rows)\n",
        "    # создаем тензоры образцов и целей\n",
        "    # все это - просто часть известных данных из файла\n",
        "    # samples - данные из прошлого\n",
        "    # targets - данные (как бы) из будущего (просто правее)\n",
        "    samples = np.zeros((len(rows), lookback // step, data.shape[-1]))\n",
        "    targets = np.zeros((len(rows),))\n",
        "    for j, row in enumerate(rows):\n",
        "      # берем lookback значений из прошлого с интервалом step\n",
        "      indices = range(rows[j] - lookback, rows[j], step)\n",
        "      # извлекаем образцы из прошлого по индексам\n",
        "      samples[j] = data[indices]\n",
        "      # извлекаем цели (которые тоже образцы) из будущего\n",
        "      targets[j] = data[rows[j] + delay][1]\n",
        "    # образцы возвращаются в прямом порядке\n",
        "    # для большинства временных последовательностей если сеть обрабатывает последовательность в прямом порядке\n",
        "    # то она лучше обучается, чем если в обратном\n",
        "    yield samples, targets    \n",
        "\n",
        "# 10 дней назад\n",
        "lookback = 1440\n",
        "# замеры раз в час\n",
        "step = 6\n",
        "# вперед на день\n",
        "delay = 144\n",
        "batch_size = 128\n",
        "\n",
        "train_generator = generator(\n",
        "    float_data, \n",
        "    lookback=lookback,\n",
        "    delay=delay,\n",
        "    min_index=0,\n",
        "    max_index=200_000,\n",
        "    shuffle=True,\n",
        "    step=step,\n",
        "    batch_size=batch_size\n",
        ")\n",
        "\n",
        "val_generator = generator(\n",
        "    float_data, \n",
        "    lookback=lookback,\n",
        "    delay=delay,\n",
        "    min_index=200_001,\n",
        "    max_index=300_000,\n",
        "    shuffle=True,\n",
        "    step=step,\n",
        "    batch_size=batch_size\n",
        ")\n",
        "\n",
        "test_generator = generator(\n",
        "    float_data, \n",
        "    lookback=lookback,\n",
        "    delay=delay,\n",
        "    min_index=300_000,\n",
        "    max_index=None,\n",
        "    shuffle=True,\n",
        "    step=step,\n",
        "    batch_size=batch_size\n",
        ")\n",
        "\n",
        "# сколько раз надо обратиться к val_generator, чтобы получить проверочный набор целиком\n",
        "val_steps = (300_000 - 200_001 - lookback) // batch_size\n",
        "# сколько раз надо обратиться к test_generator, чтобы получить тестовый набор целиком\n",
        "test_steps = (len(float_data) - 300_001 - lookback) // batch_size"
      ],
      "execution_count": null,
      "outputs": []
    },
    {
      "cell_type": "code",
      "metadata": {
        "id": "KALdbcT3Fhys",
        "outputId": "da388b8f-4ea8-4019-bc98-d7cf4c48f59b",
        "colab": {
          "base_uri": "https://localhost:8080/"
        }
      },
      "source": [
        "from keras.models import Sequential\n",
        "from keras.layers import Dense, Conv1D, MaxPooling1D, GlobalMaxPooling1D\n",
        "\n",
        "model = Sequential()\n",
        "model.add(Conv1D(32, 5, activation='relu', input_shape=(None, float_data.shape[-1])))\n",
        "model.add(MaxPooling1D(3))\n",
        "model.add(Conv1D(32, 5, activation='relu'))\n",
        "model.add(MaxPooling1D(3))\n",
        "model.add(Conv1D(32, 5, activation='relu'))\n",
        "model.add(GlobalMaxPooling1D())\n",
        "model.add(Dense(1))\n",
        "\n",
        "model.compile(optimizer='rmsprop', loss='mae')\n",
        "\n",
        "history = model.fit(\n",
        "    train_generator,\n",
        "    steps_per_epoch=500,\n",
        "    epochs=20,\n",
        "    validation_data = val_generator,\n",
        "    validation_steps = val_steps\n",
        ").history\n"
      ],
      "execution_count": null,
      "outputs": [
        {
          "output_type": "stream",
          "text": [
            "Epoch 1/20\n",
            "500/500 [==============================] - 11s 22ms/step - loss: 0.4090 - val_loss: 0.4323\n",
            "Epoch 2/20\n",
            "500/500 [==============================] - 11s 22ms/step - loss: 0.3568 - val_loss: 0.4467\n",
            "Epoch 3/20\n",
            "500/500 [==============================] - 11s 22ms/step - loss: 0.3354 - val_loss: 0.4563\n",
            "Epoch 4/20\n",
            "500/500 [==============================] - 11s 22ms/step - loss: 0.3226 - val_loss: 0.4522\n",
            "Epoch 5/20\n",
            "500/500 [==============================] - 11s 22ms/step - loss: 0.3109 - val_loss: 0.4339\n",
            "Epoch 6/20\n",
            "500/500 [==============================] - 11s 22ms/step - loss: 0.3034 - val_loss: 0.4433\n",
            "Epoch 7/20\n",
            "500/500 [==============================] - 11s 22ms/step - loss: 0.2961 - val_loss: 0.4463\n",
            "Epoch 8/20\n",
            "500/500 [==============================] - 11s 22ms/step - loss: 0.2906 - val_loss: 0.4447\n",
            "Epoch 9/20\n",
            "500/500 [==============================] - 11s 22ms/step - loss: 0.2844 - val_loss: 0.4414\n",
            "Epoch 10/20\n",
            "500/500 [==============================] - 11s 22ms/step - loss: 0.2799 - val_loss: 0.4643\n",
            "Epoch 11/20\n",
            "500/500 [==============================] - 11s 22ms/step - loss: 0.2752 - val_loss: 0.4564\n",
            "Epoch 12/20\n",
            "500/500 [==============================] - 11s 22ms/step - loss: 0.2701 - val_loss: 0.4433\n",
            "Epoch 13/20\n",
            "500/500 [==============================] - 11s 22ms/step - loss: 0.2657 - val_loss: 0.4362\n",
            "Epoch 14/20\n",
            "500/500 [==============================] - 11s 22ms/step - loss: 0.2642 - val_loss: 0.4464\n",
            "Epoch 15/20\n",
            "500/500 [==============================] - 11s 22ms/step - loss: 0.2590 - val_loss: 0.4434\n",
            "Epoch 16/20\n",
            "500/500 [==============================] - 11s 22ms/step - loss: 0.2570 - val_loss: 0.4455\n",
            "Epoch 17/20\n",
            "500/500 [==============================] - 11s 22ms/step - loss: 0.2545 - val_loss: 0.4492\n",
            "Epoch 18/20\n",
            "500/500 [==============================] - 11s 22ms/step - loss: 0.2524 - val_loss: 0.4581\n",
            "Epoch 19/20\n",
            "500/500 [==============================] - 11s 22ms/step - loss: 0.2498 - val_loss: 0.4655\n",
            "Epoch 20/20\n",
            "500/500 [==============================] - 11s 22ms/step - loss: 0.2481 - val_loss: 0.4601\n"
          ],
          "name": "stdout"
        }
      ]
    },
    {
      "cell_type": "code",
      "metadata": {
        "id": "FyD7fSzUHDUV",
        "outputId": "37bb3bd7-ed74-4855-ba7c-50f98d81440b",
        "colab": {
          "base_uri": "https://localhost:8080/",
          "height": 281
        }
      },
      "source": [
        "def draw_graph(history):\n",
        "  import matplotlib.pyplot as plt\n",
        "  loss = history['loss']\n",
        "  val_loss = history['val_loss']\n",
        "  epochs = range(1, len(loss) + 1)\n",
        "  plt.figure()\n",
        "  plt.plot(epochs, loss, 'bo', label='Training loss')\n",
        "  plt.plot(epochs, val_loss, 'b', label='Validation loss')\n",
        "  plt.title('Training and validation loss')\n",
        "  plt.legend()\n",
        "  plt.show()\n",
        "\n",
        "draw_graph(history)"
      ],
      "execution_count": null,
      "outputs": [
        {
          "output_type": "display_data",
          "data": {
            "image/png": "[encoded data removed]",
            "text/plain": [
              "<Figure size 432x288 with 1 Axes>"
            ]
          },
          "metadata": {
            "tags": [],
            "needs_background": "light"
          }
        }
      ]
    },
    {
      "cell_type": "markdown",
      "metadata": {
        "id": "2-jNk1HwL_QW"
      },
      "source": [
        "Как мы видим, ошибка слишком большая.\n",
        "\n",
        "Это значит, что ОСС плохо справляется с временными последовательностями"
      ]
    }
  ]
}